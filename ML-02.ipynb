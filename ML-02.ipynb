{
 "cells": [
  {
   "cell_type": "markdown",
   "metadata": {},
   "source": [
    "# TASK-02"
   ]
  },
  {
   "cell_type": "markdown",
   "metadata": {},
   "source": [
    "**Importing necessary libraries**"
   ]
  },
  {
   "cell_type": "code",
   "execution_count": 1,
   "metadata": {},
   "outputs": [],
   "source": [
    "import numpy as np\n",
    "import pandas as pd\n",
    "import matplotlib.pyplot as plt"
   ]
  },
  {
   "cell_type": "markdown",
   "metadata": {},
   "source": [
    "**Load data into a Data the DataFrame**"
   ]
  },
  {
   "cell_type": "code",
   "execution_count": 2,
   "metadata": {},
   "outputs": [
    {
     "data": {
      "text/html": [
       "<div>\n",
       "<style scoped>\n",
       "    .dataframe tbody tr th:only-of-type {\n",
       "        vertical-align: middle;\n",
       "    }\n",
       "\n",
       "    .dataframe tbody tr th {\n",
       "        vertical-align: top;\n",
       "    }\n",
       "\n",
       "    .dataframe thead th {\n",
       "        text-align: right;\n",
       "    }\n",
       "</style>\n",
       "<table border=\"1\" class=\"dataframe\">\n",
       "  <thead>\n",
       "    <tr style=\"text-align: right;\">\n",
       "      <th></th>\n",
       "      <th>Id</th>\n",
       "      <th>Feature_1</th>\n",
       "      <th>Feature_2</th>\n",
       "      <th>Feature_3</th>\n",
       "      <th>Feature_4</th>\n",
       "      <th>Feature_5</th>\n",
       "      <th>Feature_6</th>\n",
       "      <th>Target</th>\n",
       "    </tr>\n",
       "  </thead>\n",
       "  <tbody>\n",
       "    <tr>\n",
       "      <th>0</th>\n",
       "      <td>1</td>\n",
       "      <td>6.1</td>\n",
       "      <td>4</td>\n",
       "      <td>4.4</td>\n",
       "      <td>4.2</td>\n",
       "      <td>0</td>\n",
       "      <td>5.5</td>\n",
       "      <td>Class_1</td>\n",
       "    </tr>\n",
       "    <tr>\n",
       "      <th>1</th>\n",
       "      <td>2</td>\n",
       "      <td>5.9</td>\n",
       "      <td>1</td>\n",
       "      <td>4.4</td>\n",
       "      <td>4.2</td>\n",
       "      <td>3</td>\n",
       "      <td>5.0</td>\n",
       "      <td>Class_1</td>\n",
       "    </tr>\n",
       "    <tr>\n",
       "      <th>2</th>\n",
       "      <td>3</td>\n",
       "      <td>5.7</td>\n",
       "      <td>4</td>\n",
       "      <td>4.3</td>\n",
       "      <td>4.2</td>\n",
       "      <td>2</td>\n",
       "      <td>5.2</td>\n",
       "      <td>Class_1</td>\n",
       "    </tr>\n",
       "    <tr>\n",
       "      <th>3</th>\n",
       "      <td>4</td>\n",
       "      <td>5.6</td>\n",
       "      <td>2</td>\n",
       "      <td>4.5</td>\n",
       "      <td>4.2</td>\n",
       "      <td>0</td>\n",
       "      <td>5.1</td>\n",
       "      <td>Class_1</td>\n",
       "    </tr>\n",
       "    <tr>\n",
       "      <th>4</th>\n",
       "      <td>5</td>\n",
       "      <td>6.0</td>\n",
       "      <td>5</td>\n",
       "      <td>4.4</td>\n",
       "      <td>4.2</td>\n",
       "      <td>1</td>\n",
       "      <td>5.6</td>\n",
       "      <td>Class_1</td>\n",
       "    </tr>\n",
       "  </tbody>\n",
       "</table>\n",
       "</div>"
      ],
      "text/plain": [
       "   Id  Feature_1  Feature_2  Feature_3  Feature_4  Feature_5  Feature_6  \\\n",
       "0   1        6.1          4        4.4        4.2          0        5.5   \n",
       "1   2        5.9          1        4.4        4.2          3        5.0   \n",
       "2   3        5.7          4        4.3        4.2          2        5.2   \n",
       "3   4        5.6          2        4.5        4.2          0        5.1   \n",
       "4   5        6.0          5        4.4        4.2          1        5.6   \n",
       "\n",
       "    Target  \n",
       "0  Class_1  \n",
       "1  Class_1  \n",
       "2  Class_1  \n",
       "3  Class_1  \n",
       "4  Class_1  "
      ]
     },
     "execution_count": 2,
     "metadata": {},
     "output_type": "execute_result"
    }
   ],
   "source": [
    "df = pd.read_csv(\"dataset_2.csv\")\n",
    "df.head()"
   ]
  },
  {
   "cell_type": "code",
   "execution_count": 3,
   "metadata": {},
   "outputs": [
    {
     "data": {
      "text/html": [
       "<div>\n",
       "<style scoped>\n",
       "    .dataframe tbody tr th:only-of-type {\n",
       "        vertical-align: middle;\n",
       "    }\n",
       "\n",
       "    .dataframe tbody tr th {\n",
       "        vertical-align: top;\n",
       "    }\n",
       "\n",
       "    .dataframe thead th {\n",
       "        text-align: right;\n",
       "    }\n",
       "</style>\n",
       "<table border=\"1\" class=\"dataframe\">\n",
       "  <thead>\n",
       "    <tr style=\"text-align: right;\">\n",
       "      <th></th>\n",
       "      <th>Id</th>\n",
       "      <th>Feature_1</th>\n",
       "      <th>Feature_2</th>\n",
       "      <th>Feature_3</th>\n",
       "      <th>Feature_4</th>\n",
       "      <th>Feature_5</th>\n",
       "      <th>Feature_6</th>\n",
       "      <th>Target</th>\n",
       "    </tr>\n",
       "  </thead>\n",
       "  <tbody>\n",
       "    <tr>\n",
       "      <th>0</th>\n",
       "      <td>1</td>\n",
       "      <td>6.1</td>\n",
       "      <td>4</td>\n",
       "      <td>4.4</td>\n",
       "      <td>4.2</td>\n",
       "      <td>0</td>\n",
       "      <td>5.5</td>\n",
       "      <td>Class_1</td>\n",
       "    </tr>\n",
       "    <tr>\n",
       "      <th>1</th>\n",
       "      <td>2</td>\n",
       "      <td>5.9</td>\n",
       "      <td>1</td>\n",
       "      <td>4.4</td>\n",
       "      <td>4.2</td>\n",
       "      <td>3</td>\n",
       "      <td>5.0</td>\n",
       "      <td>Class_1</td>\n",
       "    </tr>\n",
       "    <tr>\n",
       "      <th>2</th>\n",
       "      <td>3</td>\n",
       "      <td>5.7</td>\n",
       "      <td>4</td>\n",
       "      <td>4.3</td>\n",
       "      <td>4.2</td>\n",
       "      <td>2</td>\n",
       "      <td>5.2</td>\n",
       "      <td>Class_1</td>\n",
       "    </tr>\n",
       "    <tr>\n",
       "      <th>3</th>\n",
       "      <td>4</td>\n",
       "      <td>5.6</td>\n",
       "      <td>2</td>\n",
       "      <td>4.5</td>\n",
       "      <td>4.2</td>\n",
       "      <td>0</td>\n",
       "      <td>5.1</td>\n",
       "      <td>Class_1</td>\n",
       "    </tr>\n",
       "    <tr>\n",
       "      <th>4</th>\n",
       "      <td>5</td>\n",
       "      <td>6.0</td>\n",
       "      <td>5</td>\n",
       "      <td>4.4</td>\n",
       "      <td>4.2</td>\n",
       "      <td>1</td>\n",
       "      <td>5.6</td>\n",
       "      <td>Class_1</td>\n",
       "    </tr>\n",
       "    <tr>\n",
       "      <th>...</th>\n",
       "      <td>...</td>\n",
       "      <td>...</td>\n",
       "      <td>...</td>\n",
       "      <td>...</td>\n",
       "      <td>...</td>\n",
       "      <td>...</td>\n",
       "      <td>...</td>\n",
       "      <td>...</td>\n",
       "    </tr>\n",
       "    <tr>\n",
       "      <th>145</th>\n",
       "      <td>146</td>\n",
       "      <td>7.7</td>\n",
       "      <td>0</td>\n",
       "      <td>8.2</td>\n",
       "      <td>6.3</td>\n",
       "      <td>3</td>\n",
       "      <td>5.0</td>\n",
       "      <td>Class_3</td>\n",
       "    </tr>\n",
       "    <tr>\n",
       "      <th>146</th>\n",
       "      <td>147</td>\n",
       "      <td>7.3</td>\n",
       "      <td>4</td>\n",
       "      <td>8.0</td>\n",
       "      <td>5.9</td>\n",
       "      <td>0</td>\n",
       "      <td>4.5</td>\n",
       "      <td>Class_3</td>\n",
       "    </tr>\n",
       "    <tr>\n",
       "      <th>147</th>\n",
       "      <td>148</td>\n",
       "      <td>7.5</td>\n",
       "      <td>0</td>\n",
       "      <td>8.2</td>\n",
       "      <td>6.0</td>\n",
       "      <td>1</td>\n",
       "      <td>5.0</td>\n",
       "      <td>Class_3</td>\n",
       "    </tr>\n",
       "    <tr>\n",
       "      <th>148</th>\n",
       "      <td>149</td>\n",
       "      <td>7.2</td>\n",
       "      <td>1</td>\n",
       "      <td>8.4</td>\n",
       "      <td>6.3</td>\n",
       "      <td>0</td>\n",
       "      <td>5.4</td>\n",
       "      <td>Class_3</td>\n",
       "    </tr>\n",
       "    <tr>\n",
       "      <th>149</th>\n",
       "      <td>150</td>\n",
       "      <td>6.9</td>\n",
       "      <td>0</td>\n",
       "      <td>8.1</td>\n",
       "      <td>5.8</td>\n",
       "      <td>2</td>\n",
       "      <td>5.0</td>\n",
       "      <td>Class_3</td>\n",
       "    </tr>\n",
       "  </tbody>\n",
       "</table>\n",
       "<p>150 rows × 8 columns</p>\n",
       "</div>"
      ],
      "text/plain": [
       "      Id  Feature_1  Feature_2  Feature_3  Feature_4  Feature_5  Feature_6  \\\n",
       "0      1        6.1          4        4.4        4.2          0        5.5   \n",
       "1      2        5.9          1        4.4        4.2          3        5.0   \n",
       "2      3        5.7          4        4.3        4.2          2        5.2   \n",
       "3      4        5.6          2        4.5        4.2          0        5.1   \n",
       "4      5        6.0          5        4.4        4.2          1        5.6   \n",
       "..   ...        ...        ...        ...        ...        ...        ...   \n",
       "145  146        7.7          0        8.2        6.3          3        5.0   \n",
       "146  147        7.3          4        8.0        5.9          0        4.5   \n",
       "147  148        7.5          0        8.2        6.0          1        5.0   \n",
       "148  149        7.2          1        8.4        6.3          0        5.4   \n",
       "149  150        6.9          0        8.1        5.8          2        5.0   \n",
       "\n",
       "      Target  \n",
       "0    Class_1  \n",
       "1    Class_1  \n",
       "2    Class_1  \n",
       "3    Class_1  \n",
       "4    Class_1  \n",
       "..       ...  \n",
       "145  Class_3  \n",
       "146  Class_3  \n",
       "147  Class_3  \n",
       "148  Class_3  \n",
       "149  Class_3  \n",
       "\n",
       "[150 rows x 8 columns]"
      ]
     },
     "execution_count": 3,
     "metadata": {},
     "output_type": "execute_result"
    }
   ],
   "source": [
    "df"
   ]
  },
  {
   "cell_type": "code",
   "execution_count": 4,
   "metadata": {},
   "outputs": [
    {
     "data": {
      "text/html": [
       "<div>\n",
       "<style scoped>\n",
       "    .dataframe tbody tr th:only-of-type {\n",
       "        vertical-align: middle;\n",
       "    }\n",
       "\n",
       "    .dataframe tbody tr th {\n",
       "        vertical-align: top;\n",
       "    }\n",
       "\n",
       "    .dataframe thead th {\n",
       "        text-align: right;\n",
       "    }\n",
       "</style>\n",
       "<table border=\"1\" class=\"dataframe\">\n",
       "  <thead>\n",
       "    <tr style=\"text-align: right;\">\n",
       "      <th></th>\n",
       "      <th>Id</th>\n",
       "      <th>Feature_1</th>\n",
       "      <th>Feature_2</th>\n",
       "      <th>Feature_3</th>\n",
       "      <th>Feature_4</th>\n",
       "      <th>Feature_5</th>\n",
       "      <th>Feature_6</th>\n",
       "    </tr>\n",
       "  </thead>\n",
       "  <tbody>\n",
       "    <tr>\n",
       "      <th>count</th>\n",
       "      <td>150.000000</td>\n",
       "      <td>150.000000</td>\n",
       "      <td>150.000000</td>\n",
       "      <td>150.000000</td>\n",
       "      <td>150.000000</td>\n",
       "      <td>150.000000</td>\n",
       "      <td>150.000000</td>\n",
       "    </tr>\n",
       "    <tr>\n",
       "      <th>mean</th>\n",
       "      <td>75.500000</td>\n",
       "      <td>6.843333</td>\n",
       "      <td>2.453333</td>\n",
       "      <td>6.758667</td>\n",
       "      <td>5.198667</td>\n",
       "      <td>2.426667</td>\n",
       "      <td>5.054000</td>\n",
       "    </tr>\n",
       "    <tr>\n",
       "      <th>std</th>\n",
       "      <td>43.445368</td>\n",
       "      <td>0.828066</td>\n",
       "      <td>1.759296</td>\n",
       "      <td>1.764420</td>\n",
       "      <td>0.763161</td>\n",
       "      <td>1.676312</td>\n",
       "      <td>0.433594</td>\n",
       "    </tr>\n",
       "    <tr>\n",
       "      <th>min</th>\n",
       "      <td>1.000000</td>\n",
       "      <td>5.300000</td>\n",
       "      <td>0.000000</td>\n",
       "      <td>4.000000</td>\n",
       "      <td>4.100000</td>\n",
       "      <td>0.000000</td>\n",
       "      <td>4.000000</td>\n",
       "    </tr>\n",
       "    <tr>\n",
       "      <th>25%</th>\n",
       "      <td>38.250000</td>\n",
       "      <td>6.100000</td>\n",
       "      <td>1.000000</td>\n",
       "      <td>4.600000</td>\n",
       "      <td>4.300000</td>\n",
       "      <td>1.000000</td>\n",
       "      <td>4.800000</td>\n",
       "    </tr>\n",
       "    <tr>\n",
       "      <th>50%</th>\n",
       "      <td>75.500000</td>\n",
       "      <td>6.800000</td>\n",
       "      <td>2.000000</td>\n",
       "      <td>7.350000</td>\n",
       "      <td>5.300000</td>\n",
       "      <td>2.000000</td>\n",
       "      <td>5.000000</td>\n",
       "    </tr>\n",
       "    <tr>\n",
       "      <th>75%</th>\n",
       "      <td>112.750000</td>\n",
       "      <td>7.400000</td>\n",
       "      <td>4.000000</td>\n",
       "      <td>8.100000</td>\n",
       "      <td>5.800000</td>\n",
       "      <td>4.000000</td>\n",
       "      <td>5.300000</td>\n",
       "    </tr>\n",
       "    <tr>\n",
       "      <th>max</th>\n",
       "      <td>150.000000</td>\n",
       "      <td>8.900000</td>\n",
       "      <td>5.000000</td>\n",
       "      <td>9.900000</td>\n",
       "      <td>6.500000</td>\n",
       "      <td>5.000000</td>\n",
       "      <td>6.400000</td>\n",
       "    </tr>\n",
       "  </tbody>\n",
       "</table>\n",
       "</div>"
      ],
      "text/plain": [
       "               Id   Feature_1   Feature_2   Feature_3   Feature_4   Feature_5  \\\n",
       "count  150.000000  150.000000  150.000000  150.000000  150.000000  150.000000   \n",
       "mean    75.500000    6.843333    2.453333    6.758667    5.198667    2.426667   \n",
       "std     43.445368    0.828066    1.759296    1.764420    0.763161    1.676312   \n",
       "min      1.000000    5.300000    0.000000    4.000000    4.100000    0.000000   \n",
       "25%     38.250000    6.100000    1.000000    4.600000    4.300000    1.000000   \n",
       "50%     75.500000    6.800000    2.000000    7.350000    5.300000    2.000000   \n",
       "75%    112.750000    7.400000    4.000000    8.100000    5.800000    4.000000   \n",
       "max    150.000000    8.900000    5.000000    9.900000    6.500000    5.000000   \n",
       "\n",
       "        Feature_6  \n",
       "count  150.000000  \n",
       "mean     5.054000  \n",
       "std      0.433594  \n",
       "min      4.000000  \n",
       "25%      4.800000  \n",
       "50%      5.000000  \n",
       "75%      5.300000  \n",
       "max      6.400000  "
      ]
     },
     "execution_count": 4,
     "metadata": {},
     "output_type": "execute_result"
    }
   ],
   "source": [
    "df.describe()"
   ]
  },
  {
   "cell_type": "code",
   "execution_count": 5,
   "metadata": {},
   "outputs": [
    {
     "name": "stdout",
     "output_type": "stream",
     "text": [
      "<class 'pandas.core.frame.DataFrame'>\n",
      "RangeIndex: 150 entries, 0 to 149\n",
      "Data columns (total 8 columns):\n",
      " #   Column     Non-Null Count  Dtype  \n",
      "---  ------     --------------  -----  \n",
      " 0   Id         150 non-null    int64  \n",
      " 1   Feature_1  150 non-null    float64\n",
      " 2   Feature_2  150 non-null    int64  \n",
      " 3   Feature_3  150 non-null    float64\n",
      " 4   Feature_4  150 non-null    float64\n",
      " 5   Feature_5  150 non-null    int64  \n",
      " 6   Feature_6  150 non-null    float64\n",
      " 7   Target     150 non-null    object \n",
      "dtypes: float64(4), int64(3), object(1)\n",
      "memory usage: 9.5+ KB\n"
     ]
    }
   ],
   "source": [
    "df.info()"
   ]
  },
  {
   "cell_type": "markdown",
   "metadata": {},
   "source": [
    "**Finding out unique target values** "
   ]
  },
  {
   "cell_type": "code",
   "execution_count": 6,
   "metadata": {},
   "outputs": [
    {
     "data": {
      "text/plain": [
       "array(['Class_1', 'Class_2', 'Class_3'], dtype=object)"
      ]
     },
     "execution_count": 6,
     "metadata": {},
     "output_type": "execute_result"
    }
   ],
   "source": [
    "df['Target'].unique()"
   ]
  },
  {
   "cell_type": "markdown",
   "metadata": {},
   "source": [
    "**Converting the categorical \"Target\" variable to numeric by Label Encoding Method**"
   ]
  },
  {
   "cell_type": "code",
   "execution_count": 7,
   "metadata": {},
   "outputs": [
    {
     "data": {
      "text/plain": [
       "array([0, 0, 0, 0, 0, 0, 0, 0, 0, 0, 0, 0, 0, 0, 0, 0, 0, 0, 0, 0, 0, 0,\n",
       "       0, 0, 0, 0, 0, 0, 0, 0, 0, 0, 0, 0, 0, 0, 0, 0, 0, 0, 0, 0, 0, 0,\n",
       "       0, 0, 0, 0, 0, 0, 1, 1, 1, 1, 1, 1, 1, 1, 1, 1, 1, 1, 1, 1, 1, 1,\n",
       "       1, 1, 1, 1, 1, 1, 1, 1, 1, 1, 1, 1, 1, 1, 1, 1, 1, 1, 1, 1, 1, 1,\n",
       "       1, 1, 1, 1, 1, 1, 1, 1, 1, 1, 1, 1, 2, 2, 2, 2, 2, 2, 2, 2, 2, 2,\n",
       "       2, 2, 2, 2, 2, 2, 2, 2, 2, 2, 2, 2, 2, 2, 2, 2, 2, 2, 2, 2, 2, 2,\n",
       "       2, 2, 2, 2, 2, 2, 2, 2, 2, 2, 2, 2, 2, 2, 2, 2, 2, 2])"
      ]
     },
     "execution_count": 7,
     "metadata": {},
     "output_type": "execute_result"
    }
   ],
   "source": [
    "from sklearn.preprocessing import LabelEncoder\n",
    "le = LabelEncoder()\n",
    "label = le.fit_transform(df['Target'])\n",
    "label"
   ]
  },
  {
   "cell_type": "code",
   "execution_count": 8,
   "metadata": {},
   "outputs": [
    {
     "data": {
      "text/html": [
       "<div>\n",
       "<style scoped>\n",
       "    .dataframe tbody tr th:only-of-type {\n",
       "        vertical-align: middle;\n",
       "    }\n",
       "\n",
       "    .dataframe tbody tr th {\n",
       "        vertical-align: top;\n",
       "    }\n",
       "\n",
       "    .dataframe thead th {\n",
       "        text-align: right;\n",
       "    }\n",
       "</style>\n",
       "<table border=\"1\" class=\"dataframe\">\n",
       "  <thead>\n",
       "    <tr style=\"text-align: right;\">\n",
       "      <th></th>\n",
       "      <th>Id</th>\n",
       "      <th>Feature_1</th>\n",
       "      <th>Feature_2</th>\n",
       "      <th>Feature_3</th>\n",
       "      <th>Feature_4</th>\n",
       "      <th>Feature_5</th>\n",
       "      <th>Feature_6</th>\n",
       "      <th>Target</th>\n",
       "    </tr>\n",
       "  </thead>\n",
       "  <tbody>\n",
       "    <tr>\n",
       "      <th>0</th>\n",
       "      <td>1</td>\n",
       "      <td>6.1</td>\n",
       "      <td>4</td>\n",
       "      <td>4.4</td>\n",
       "      <td>4.2</td>\n",
       "      <td>0</td>\n",
       "      <td>5.5</td>\n",
       "      <td>0</td>\n",
       "    </tr>\n",
       "    <tr>\n",
       "      <th>1</th>\n",
       "      <td>2</td>\n",
       "      <td>5.9</td>\n",
       "      <td>1</td>\n",
       "      <td>4.4</td>\n",
       "      <td>4.2</td>\n",
       "      <td>3</td>\n",
       "      <td>5.0</td>\n",
       "      <td>0</td>\n",
       "    </tr>\n",
       "    <tr>\n",
       "      <th>2</th>\n",
       "      <td>3</td>\n",
       "      <td>5.7</td>\n",
       "      <td>4</td>\n",
       "      <td>4.3</td>\n",
       "      <td>4.2</td>\n",
       "      <td>2</td>\n",
       "      <td>5.2</td>\n",
       "      <td>0</td>\n",
       "    </tr>\n",
       "    <tr>\n",
       "      <th>3</th>\n",
       "      <td>4</td>\n",
       "      <td>5.6</td>\n",
       "      <td>2</td>\n",
       "      <td>4.5</td>\n",
       "      <td>4.2</td>\n",
       "      <td>0</td>\n",
       "      <td>5.1</td>\n",
       "      <td>0</td>\n",
       "    </tr>\n",
       "    <tr>\n",
       "      <th>4</th>\n",
       "      <td>5</td>\n",
       "      <td>6.0</td>\n",
       "      <td>5</td>\n",
       "      <td>4.4</td>\n",
       "      <td>4.2</td>\n",
       "      <td>1</td>\n",
       "      <td>5.6</td>\n",
       "      <td>0</td>\n",
       "    </tr>\n",
       "    <tr>\n",
       "      <th>...</th>\n",
       "      <td>...</td>\n",
       "      <td>...</td>\n",
       "      <td>...</td>\n",
       "      <td>...</td>\n",
       "      <td>...</td>\n",
       "      <td>...</td>\n",
       "      <td>...</td>\n",
       "      <td>...</td>\n",
       "    </tr>\n",
       "    <tr>\n",
       "      <th>145</th>\n",
       "      <td>146</td>\n",
       "      <td>7.7</td>\n",
       "      <td>0</td>\n",
       "      <td>8.2</td>\n",
       "      <td>6.3</td>\n",
       "      <td>3</td>\n",
       "      <td>5.0</td>\n",
       "      <td>2</td>\n",
       "    </tr>\n",
       "    <tr>\n",
       "      <th>146</th>\n",
       "      <td>147</td>\n",
       "      <td>7.3</td>\n",
       "      <td>4</td>\n",
       "      <td>8.0</td>\n",
       "      <td>5.9</td>\n",
       "      <td>0</td>\n",
       "      <td>4.5</td>\n",
       "      <td>2</td>\n",
       "    </tr>\n",
       "    <tr>\n",
       "      <th>147</th>\n",
       "      <td>148</td>\n",
       "      <td>7.5</td>\n",
       "      <td>0</td>\n",
       "      <td>8.2</td>\n",
       "      <td>6.0</td>\n",
       "      <td>1</td>\n",
       "      <td>5.0</td>\n",
       "      <td>2</td>\n",
       "    </tr>\n",
       "    <tr>\n",
       "      <th>148</th>\n",
       "      <td>149</td>\n",
       "      <td>7.2</td>\n",
       "      <td>1</td>\n",
       "      <td>8.4</td>\n",
       "      <td>6.3</td>\n",
       "      <td>0</td>\n",
       "      <td>5.4</td>\n",
       "      <td>2</td>\n",
       "    </tr>\n",
       "    <tr>\n",
       "      <th>149</th>\n",
       "      <td>150</td>\n",
       "      <td>6.9</td>\n",
       "      <td>0</td>\n",
       "      <td>8.1</td>\n",
       "      <td>5.8</td>\n",
       "      <td>2</td>\n",
       "      <td>5.0</td>\n",
       "      <td>2</td>\n",
       "    </tr>\n",
       "  </tbody>\n",
       "</table>\n",
       "<p>150 rows × 8 columns</p>\n",
       "</div>"
      ],
      "text/plain": [
       "      Id  Feature_1  Feature_2  Feature_3  Feature_4  Feature_5  Feature_6  \\\n",
       "0      1        6.1          4        4.4        4.2          0        5.5   \n",
       "1      2        5.9          1        4.4        4.2          3        5.0   \n",
       "2      3        5.7          4        4.3        4.2          2        5.2   \n",
       "3      4        5.6          2        4.5        4.2          0        5.1   \n",
       "4      5        6.0          5        4.4        4.2          1        5.6   \n",
       "..   ...        ...        ...        ...        ...        ...        ...   \n",
       "145  146        7.7          0        8.2        6.3          3        5.0   \n",
       "146  147        7.3          4        8.0        5.9          0        4.5   \n",
       "147  148        7.5          0        8.2        6.0          1        5.0   \n",
       "148  149        7.2          1        8.4        6.3          0        5.4   \n",
       "149  150        6.9          0        8.1        5.8          2        5.0   \n",
       "\n",
       "     Target  \n",
       "0         0  \n",
       "1         0  \n",
       "2         0  \n",
       "3         0  \n",
       "4         0  \n",
       "..      ...  \n",
       "145       2  \n",
       "146       2  \n",
       "147       2  \n",
       "148       2  \n",
       "149       2  \n",
       "\n",
       "[150 rows x 8 columns]"
      ]
     },
     "execution_count": 8,
     "metadata": {},
     "output_type": "execute_result"
    }
   ],
   "source": [
    "df.drop(\"Target\", axis=1, inplace=True) \n",
    "df[\"Target\"] = label\n",
    "df"
   ]
  },
  {
   "cell_type": "code",
   "execution_count": 9,
   "metadata": {},
   "outputs": [
    {
     "data": {
      "text/plain": [
       "array([0, 1, 2])"
      ]
     },
     "execution_count": 9,
     "metadata": {},
     "output_type": "execute_result"
    }
   ],
   "source": [
    "df['Target'].unique()"
   ]
  },
  {
   "cell_type": "markdown",
   "metadata": {},
   "source": [
    "## Performing EDA"
   ]
  },
  {
   "cell_type": "markdown",
   "metadata": {},
   "source": [
    "**Here I have used sweetviz library for EDA that generates beautiful & high-density visualizations.**"
   ]
  },
  {
   "cell_type": "code",
   "execution_count": 10,
   "metadata": {},
   "outputs": [
    {
     "data": {
      "application/vnd.jupyter.widget-view+json": {
       "model_id": "e8112561e3b443c7a4f03e6fb2779b83",
       "version_major": 2,
       "version_minor": 0
      },
      "text/plain": [
       "                                             |                                             | [  0%]   00:00 ->…"
      ]
     },
     "metadata": {},
     "output_type": "display_data"
    },
    {
     "name": "stdout",
     "output_type": "stream",
     "text": [
      "Report SWEETVIZ_REPORT.html was generated! NOTEBOOK/COLAB USERS: the web browser MAY not pop up, regardless, the report IS saved in your notebook/colab files.\n"
     ]
    }
   ],
   "source": [
    "import sweetviz as sv\n",
    "\n",
    "my_report = sv.analyze(df)\n",
    "my_report.show_html()"
   ]
  },
  {
   "cell_type": "code",
   "execution_count": 11,
   "metadata": {},
   "outputs": [],
   "source": [
    "df1=df.drop(['Feature_3','Id'], axis = 1)"
   ]
  },
  {
   "cell_type": "code",
   "execution_count": 12,
   "metadata": {},
   "outputs": [
    {
     "data": {
      "text/html": [
       "<div>\n",
       "<style scoped>\n",
       "    .dataframe tbody tr th:only-of-type {\n",
       "        vertical-align: middle;\n",
       "    }\n",
       "\n",
       "    .dataframe tbody tr th {\n",
       "        vertical-align: top;\n",
       "    }\n",
       "\n",
       "    .dataframe thead th {\n",
       "        text-align: right;\n",
       "    }\n",
       "</style>\n",
       "<table border=\"1\" class=\"dataframe\">\n",
       "  <thead>\n",
       "    <tr style=\"text-align: right;\">\n",
       "      <th></th>\n",
       "      <th>Feature_1</th>\n",
       "      <th>Feature_2</th>\n",
       "      <th>Feature_4</th>\n",
       "      <th>Feature_5</th>\n",
       "      <th>Feature_6</th>\n",
       "      <th>Target</th>\n",
       "    </tr>\n",
       "  </thead>\n",
       "  <tbody>\n",
       "    <tr>\n",
       "      <th>0</th>\n",
       "      <td>6.1</td>\n",
       "      <td>4</td>\n",
       "      <td>4.2</td>\n",
       "      <td>0</td>\n",
       "      <td>5.5</td>\n",
       "      <td>0</td>\n",
       "    </tr>\n",
       "    <tr>\n",
       "      <th>1</th>\n",
       "      <td>5.9</td>\n",
       "      <td>1</td>\n",
       "      <td>4.2</td>\n",
       "      <td>3</td>\n",
       "      <td>5.0</td>\n",
       "      <td>0</td>\n",
       "    </tr>\n",
       "    <tr>\n",
       "      <th>2</th>\n",
       "      <td>5.7</td>\n",
       "      <td>4</td>\n",
       "      <td>4.2</td>\n",
       "      <td>2</td>\n",
       "      <td>5.2</td>\n",
       "      <td>0</td>\n",
       "    </tr>\n",
       "    <tr>\n",
       "      <th>3</th>\n",
       "      <td>5.6</td>\n",
       "      <td>2</td>\n",
       "      <td>4.2</td>\n",
       "      <td>0</td>\n",
       "      <td>5.1</td>\n",
       "      <td>0</td>\n",
       "    </tr>\n",
       "    <tr>\n",
       "      <th>4</th>\n",
       "      <td>6.0</td>\n",
       "      <td>5</td>\n",
       "      <td>4.2</td>\n",
       "      <td>1</td>\n",
       "      <td>5.6</td>\n",
       "      <td>0</td>\n",
       "    </tr>\n",
       "    <tr>\n",
       "      <th>...</th>\n",
       "      <td>...</td>\n",
       "      <td>...</td>\n",
       "      <td>...</td>\n",
       "      <td>...</td>\n",
       "      <td>...</td>\n",
       "      <td>...</td>\n",
       "    </tr>\n",
       "    <tr>\n",
       "      <th>145</th>\n",
       "      <td>7.7</td>\n",
       "      <td>0</td>\n",
       "      <td>6.3</td>\n",
       "      <td>3</td>\n",
       "      <td>5.0</td>\n",
       "      <td>2</td>\n",
       "    </tr>\n",
       "    <tr>\n",
       "      <th>146</th>\n",
       "      <td>7.3</td>\n",
       "      <td>4</td>\n",
       "      <td>5.9</td>\n",
       "      <td>0</td>\n",
       "      <td>4.5</td>\n",
       "      <td>2</td>\n",
       "    </tr>\n",
       "    <tr>\n",
       "      <th>147</th>\n",
       "      <td>7.5</td>\n",
       "      <td>0</td>\n",
       "      <td>6.0</td>\n",
       "      <td>1</td>\n",
       "      <td>5.0</td>\n",
       "      <td>2</td>\n",
       "    </tr>\n",
       "    <tr>\n",
       "      <th>148</th>\n",
       "      <td>7.2</td>\n",
       "      <td>1</td>\n",
       "      <td>6.3</td>\n",
       "      <td>0</td>\n",
       "      <td>5.4</td>\n",
       "      <td>2</td>\n",
       "    </tr>\n",
       "    <tr>\n",
       "      <th>149</th>\n",
       "      <td>6.9</td>\n",
       "      <td>0</td>\n",
       "      <td>5.8</td>\n",
       "      <td>2</td>\n",
       "      <td>5.0</td>\n",
       "      <td>2</td>\n",
       "    </tr>\n",
       "  </tbody>\n",
       "</table>\n",
       "<p>150 rows × 6 columns</p>\n",
       "</div>"
      ],
      "text/plain": [
       "     Feature_1  Feature_2  Feature_4  Feature_5  Feature_6  Target\n",
       "0          6.1          4        4.2          0        5.5       0\n",
       "1          5.9          1        4.2          3        5.0       0\n",
       "2          5.7          4        4.2          2        5.2       0\n",
       "3          5.6          2        4.2          0        5.1       0\n",
       "4          6.0          5        4.2          1        5.6       0\n",
       "..         ...        ...        ...        ...        ...     ...\n",
       "145        7.7          0        6.3          3        5.0       2\n",
       "146        7.3          4        5.9          0        4.5       2\n",
       "147        7.5          0        6.0          1        5.0       2\n",
       "148        7.2          1        6.3          0        5.4       2\n",
       "149        6.9          0        5.8          2        5.0       2\n",
       "\n",
       "[150 rows x 6 columns]"
      ]
     },
     "execution_count": 12,
     "metadata": {},
     "output_type": "execute_result"
    }
   ],
   "source": [
    "df1"
   ]
  },
  {
   "cell_type": "code",
   "execution_count": 13,
   "metadata": {},
   "outputs": [
    {
     "data": {
      "text/plain": [
       "(150, 6)"
      ]
     },
     "execution_count": 13,
     "metadata": {},
     "output_type": "execute_result"
    }
   ],
   "source": [
    "df1.shape"
   ]
  },
  {
   "cell_type": "markdown",
   "metadata": {},
   "source": [
    "**Checking for null values:**"
   ]
  },
  {
   "cell_type": "code",
   "execution_count": 14,
   "metadata": {},
   "outputs": [
    {
     "data": {
      "text/plain": [
       "Feature_1    0\n",
       "Feature_2    0\n",
       "Feature_4    0\n",
       "Feature_5    0\n",
       "Feature_6    0\n",
       "Target       0\n",
       "dtype: int64"
      ]
     },
     "execution_count": 14,
     "metadata": {},
     "output_type": "execute_result"
    }
   ],
   "source": [
    "df1.isna().sum()"
   ]
  },
  {
   "cell_type": "markdown",
   "metadata": {},
   "source": [
    "**Creating two dataframes for dependent and independent columns each**"
   ]
  },
  {
   "cell_type": "code",
   "execution_count": 15,
   "metadata": {},
   "outputs": [],
   "source": [
    "x=df1[['Feature_1','Feature_2','Feature_4','Feature_5','Feature_6']].values"
   ]
  },
  {
   "cell_type": "code",
   "execution_count": 16,
   "metadata": {},
   "outputs": [
    {
     "data": {
      "text/plain": [
       "array([[6.1, 4. , 4.2, 0. , 5.5],\n",
       "       [5.9, 1. , 4.2, 3. , 5. ],\n",
       "       [5.7, 4. , 4.2, 2. , 5.2],\n",
       "       [5.6, 2. , 4.2, 0. , 5.1],\n",
       "       [6. , 5. , 4.2, 1. , 5.6],\n",
       "       [6.4, 2. , 4.4, 0. , 5.9],\n",
       "       [5.6, 0. , 4.3, 5. , 5.4],\n",
       "       [6. , 3. , 4.2, 2. , 5.4],\n",
       "       [5.4, 4. , 4.2, 5. , 4.9],\n",
       "       [5.9, 0. , 4.1, 5. , 5.1],\n",
       "       [6.4, 1. , 4.2, 3. , 5.7],\n",
       "       [5.8, 1. , 4.2, 3. , 5.4],\n",
       "       [5.8, 0. , 4.1, 5. , 5. ],\n",
       "       [5.3, 3. , 4.1, 3. , 5. ],\n",
       "       [6.8, 2. , 4.2, 1. , 6. ],\n",
       "       [6.7, 3. , 4.4, 4. , 6.4],\n",
       "       [6.4, 1. , 4.4, 4. , 5.9],\n",
       "       [6.1, 2. , 4.3, 5. , 5.5],\n",
       "       [6.7, 4. , 4.3, 1. , 5.8],\n",
       "       [6.1, 0. , 4.3, 2. , 5.8],\n",
       "       [6.4, 5. , 4.2, 0. , 5.4],\n",
       "       [6.1, 1. , 4.4, 3. , 5.7],\n",
       "       [5.6, 1. , 4.2, 4. , 5.6],\n",
       "       [6.1, 0. , 4.5, 1. , 5.3],\n",
       "       [5.8, 2. , 4.2, 3. , 5.4],\n",
       "       [6. , 5. , 4.2, 4. , 5. ],\n",
       "       [6. , 0. , 4.4, 1. , 5.4],\n",
       "       [6.2, 0. , 4.2, 1. , 5.5],\n",
       "       [6.2, 0. , 4.2, 1. , 5.4],\n",
       "       [5.7, 1. , 4.2, 5. , 5.2],\n",
       "       [5.8, 1. , 4.2, 1. , 5.1],\n",
       "       [6.4, 0. , 4.4, 2. , 5.4],\n",
       "       [6.2, 3. , 4.1, 5. , 6.1],\n",
       "       [6.5, 1. , 4.2, 4. , 6.2],\n",
       "       [5.9, 1. , 4.1, 4. , 5.1],\n",
       "       [6. , 2. , 4.2, 5. , 5.2],\n",
       "       [6.5, 5. , 4.2, 5. , 5.5],\n",
       "       [5.9, 0. , 4.1, 4. , 5.1],\n",
       "       [5.4, 3. , 4.2, 2. , 5. ],\n",
       "       [6.1, 0. , 4.2, 4. , 5.4],\n",
       "       [6. , 3. , 4.3, 2. , 5.5],\n",
       "       [5.5, 1. , 4.3, 2. , 4.3],\n",
       "       [5.4, 0. , 4.2, 3. , 5.2],\n",
       "       [6. , 2. , 4.6, 2. , 5.5],\n",
       "       [6.1, 2. , 4.4, 2. , 5.8],\n",
       "       [5.8, 1. , 4.3, 1. , 5. ],\n",
       "       [6.1, 0. , 4.2, 3. , 5.8],\n",
       "       [5.6, 5. , 4.2, 2. , 5.2],\n",
       "       [6.3, 5. , 4.2, 2. , 5.7],\n",
       "       [6. , 1. , 4.2, 2. , 5.3],\n",
       "       [8. , 1. , 5.4, 4. , 5.2],\n",
       "       [7.4, 4. , 5.5, 4. , 5.2],\n",
       "       [7.9, 2. , 5.5, 0. , 5.1],\n",
       "       [6.5, 2. , 5.3, 1. , 4.3],\n",
       "       [7.5, 4. , 5.5, 2. , 4.8],\n",
       "       [6.7, 5. , 5.3, 1. , 4.8],\n",
       "       [7.3, 2. , 5.6, 5. , 5.3],\n",
       "       [5.9, 3. , 5. , 5. , 4.4],\n",
       "       [7.6, 1. , 5.3, 0. , 4.9],\n",
       "       [6.2, 1. , 5.4, 3. , 4.7],\n",
       "       [6. , 4. , 5. , 5. , 4. ],\n",
       "       [6.9, 3. , 5.5, 1. , 5. ],\n",
       "       [7. , 3. , 5. , 2. , 4.2],\n",
       "       [7.1, 5. , 5.4, 3. , 4.9],\n",
       "       [6.6, 3. , 5.3, 2. , 4.9],\n",
       "       [7.7, 2. , 5.4, 0. , 5.1],\n",
       "       [6.6, 5. , 5.5, 5. , 5. ],\n",
       "       [6.8, 5. , 5. , 3. , 4.7],\n",
       "       [7.2, 0. , 5.5, 3. , 4.2],\n",
       "       [6.6, 5. , 5.1, 3. , 4.5],\n",
       "       [6.9, 5. , 5.8, 1. , 5.2],\n",
       "       [7.1, 1. , 5.3, 4. , 4.8],\n",
       "       [7.3, 3. , 5.5, 5. , 4.5],\n",
       "       [7.1, 3. , 5.2, 4. , 4.8],\n",
       "       [7.4, 5. , 5.3, 0. , 4.9],\n",
       "       [7.6, 1. , 5.4, 3. , 5. ],\n",
       "       [7.8, 4. , 5.4, 5. , 4.8],\n",
       "       [7.7, 4. , 5.7, 2. , 5. ],\n",
       "       [7. , 1. , 5.5, 4. , 4.9],\n",
       "       [6.7, 3. , 5. , 3. , 4.6],\n",
       "       [6.5, 1. , 5.1, 3. , 4.4],\n",
       "       [6.5, 3. , 5. , 0. , 4.4],\n",
       "       [6.8, 5. , 5.2, 0. , 4.7],\n",
       "       [7. , 4. , 5.6, 0. , 4.7],\n",
       "       [6.4, 5. , 5.5, 5. , 5. ],\n",
       "       [7. , 4. , 5.6, 3. , 5.4],\n",
       "       [7.7, 0. , 5.5, 3. , 5.1],\n",
       "       [7.3, 4. , 5.3, 2. , 4.3],\n",
       "       [6.6, 4. , 5.3, 1. , 5. ],\n",
       "       [6.5, 0. , 5.3, 0. , 4.5],\n",
       "       [6.5, 2. , 5.2, 0. , 4.6],\n",
       "       [7.1, 1. , 5.4, 0. , 5. ],\n",
       "       [6.8, 2. , 5.2, 5. , 4.6],\n",
       "       [6. , 5. , 5. , 5. , 4.3],\n",
       "       [6.6, 3. , 5.3, 5. , 4.7],\n",
       "       [6.7, 4. , 5.2, 2. , 5. ],\n",
       "       [6.7, 2. , 5.3, 0. , 4.9],\n",
       "       [7.2, 5. , 5.3, 0. , 4.9],\n",
       "       [6.1, 4. , 5.1, 1. , 4.5],\n",
       "       [6.7, 0. , 5.3, 3. , 4.8],\n",
       "       [7.3, 2. , 6.5, 0. , 5.3],\n",
       "       [6.8, 5. , 5.9, 1. , 4.7],\n",
       "       [8.1, 3. , 6.1, 0. , 5. ],\n",
       "       [7.3, 1. , 5.8, 3. , 4.9],\n",
       "       [7.5, 2. , 6.2, 1. , 5. ],\n",
       "       [8.6, 1. , 6.1, 5. , 5. ],\n",
       "       [5.9, 0. , 5.7, 5. , 4.5],\n",
       "       [8.3, 4. , 5.8, 3. , 4.9],\n",
       "       [7.7, 5. , 5.8, 2. , 4.5],\n",
       "       [8.2, 5. , 6.5, 0. , 5.6],\n",
       "       [7.5, 4. , 6. , 2. , 5.2],\n",
       "       [7.4, 5. , 5.9, 1. , 4.7],\n",
       "       [7.8, 5. , 6.1, 2. , 5. ],\n",
       "       [6.7, 4. , 6. , 4. , 4.5],\n",
       "       [6.8, 1. , 6.4, 3. , 4.8],\n",
       "       [7.4, 2. , 6.3, 1. , 5.2],\n",
       "       [7.5, 0. , 5.8, 2. , 5. ],\n",
       "       [8.7, 5. , 6.2, 0. , 5.8],\n",
       "       [8.7, 4. , 6.3, 4. , 4.6],\n",
       "       [7. , 3. , 5.5, 3. , 4.2],\n",
       "       [7.9, 1. , 6.3, 4. , 5.2],\n",
       "       [6.6, 5. , 6. , 4. , 4.8],\n",
       "       [8.7, 1. , 6. , 3. , 4.8],\n",
       "       [7.3, 5. , 5.8, 2. , 4.7],\n",
       "       [7.7, 3. , 6.1, 0. , 5.3],\n",
       "       [8.2, 5. , 5.8, 3. , 5.2],\n",
       "       [7.2, 2. , 5.8, 3. , 4.8],\n",
       "       [7.1, 3. , 5.8, 1. , 5. ],\n",
       "       [7.4, 0. , 6.1, 2. , 4.8],\n",
       "       [8.2, 3. , 5.6, 1. , 5. ],\n",
       "       [8.4, 4. , 5.9, 1. , 4.8],\n",
       "       [8.9, 4. , 6. , 5. , 5.8],\n",
       "       [7.4, 2. , 6.2, 5. , 4.8],\n",
       "       [7.3, 1. , 5.5, 1. , 4.8],\n",
       "       [7.1, 1. , 5.4, 1. , 4.6],\n",
       "       [8.7, 1. , 6.3, 2. , 5. ],\n",
       "       [7.3, 5. , 6.4, 5. , 5.4],\n",
       "       [7.4, 3. , 5.8, 2. , 5.1],\n",
       "       [7. , 3. , 5.8, 4. , 5. ],\n",
       "       [7.9, 1. , 6.1, 0. , 5.1],\n",
       "       [7.7, 5. , 6.4, 3. , 5.1],\n",
       "       [7.9, 1. , 6.3, 3. , 5.1],\n",
       "       [6.8, 0. , 5.9, 2. , 4.7],\n",
       "       [7.8, 1. , 6.3, 0. , 5.2],\n",
       "       [7.7, 1. , 6.5, 4. , 5.3],\n",
       "       [7.7, 0. , 6.3, 3. , 5. ],\n",
       "       [7.3, 4. , 5.9, 0. , 4.5],\n",
       "       [7.5, 0. , 6. , 1. , 5. ],\n",
       "       [7.2, 1. , 6.3, 0. , 5.4],\n",
       "       [6.9, 0. , 5.8, 2. , 5. ]])"
      ]
     },
     "execution_count": 16,
     "metadata": {},
     "output_type": "execute_result"
    }
   ],
   "source": [
    "x"
   ]
  },
  {
   "cell_type": "code",
   "execution_count": 17,
   "metadata": {},
   "outputs": [],
   "source": [
    "#dependent column\n",
    "y=df1[['Target']]"
   ]
  },
  {
   "cell_type": "code",
   "execution_count": 18,
   "metadata": {},
   "outputs": [
    {
     "data": {
      "text/html": [
       "<div>\n",
       "<style scoped>\n",
       "    .dataframe tbody tr th:only-of-type {\n",
       "        vertical-align: middle;\n",
       "    }\n",
       "\n",
       "    .dataframe tbody tr th {\n",
       "        vertical-align: top;\n",
       "    }\n",
       "\n",
       "    .dataframe thead th {\n",
       "        text-align: right;\n",
       "    }\n",
       "</style>\n",
       "<table border=\"1\" class=\"dataframe\">\n",
       "  <thead>\n",
       "    <tr style=\"text-align: right;\">\n",
       "      <th></th>\n",
       "      <th>Target</th>\n",
       "    </tr>\n",
       "  </thead>\n",
       "  <tbody>\n",
       "    <tr>\n",
       "      <th>0</th>\n",
       "      <td>0</td>\n",
       "    </tr>\n",
       "    <tr>\n",
       "      <th>1</th>\n",
       "      <td>0</td>\n",
       "    </tr>\n",
       "    <tr>\n",
       "      <th>2</th>\n",
       "      <td>0</td>\n",
       "    </tr>\n",
       "    <tr>\n",
       "      <th>3</th>\n",
       "      <td>0</td>\n",
       "    </tr>\n",
       "    <tr>\n",
       "      <th>4</th>\n",
       "      <td>0</td>\n",
       "    </tr>\n",
       "    <tr>\n",
       "      <th>...</th>\n",
       "      <td>...</td>\n",
       "    </tr>\n",
       "    <tr>\n",
       "      <th>145</th>\n",
       "      <td>2</td>\n",
       "    </tr>\n",
       "    <tr>\n",
       "      <th>146</th>\n",
       "      <td>2</td>\n",
       "    </tr>\n",
       "    <tr>\n",
       "      <th>147</th>\n",
       "      <td>2</td>\n",
       "    </tr>\n",
       "    <tr>\n",
       "      <th>148</th>\n",
       "      <td>2</td>\n",
       "    </tr>\n",
       "    <tr>\n",
       "      <th>149</th>\n",
       "      <td>2</td>\n",
       "    </tr>\n",
       "  </tbody>\n",
       "</table>\n",
       "<p>150 rows × 1 columns</p>\n",
       "</div>"
      ],
      "text/plain": [
       "     Target\n",
       "0         0\n",
       "1         0\n",
       "2         0\n",
       "3         0\n",
       "4         0\n",
       "..      ...\n",
       "145       2\n",
       "146       2\n",
       "147       2\n",
       "148       2\n",
       "149       2\n",
       "\n",
       "[150 rows x 1 columns]"
      ]
     },
     "execution_count": 18,
     "metadata": {},
     "output_type": "execute_result"
    }
   ],
   "source": [
    "y"
   ]
  },
  {
   "cell_type": "markdown",
   "metadata": {},
   "source": [
    "### Splitting training and test data\n"
   ]
  },
  {
   "cell_type": "code",
   "execution_count": 19,
   "metadata": {},
   "outputs": [],
   "source": [
    "from sklearn.model_selection import train_test_split\n",
    "x_train,x_test,y_train,y_test = train_test_split(x,y,test_size=0.2,random_state=0)"
   ]
  },
  {
   "cell_type": "markdown",
   "metadata": {},
   "source": [
    "### Feature Scaling"
   ]
  },
  {
   "cell_type": "code",
   "execution_count": 20,
   "metadata": {},
   "outputs": [],
   "source": [
    "from sklearn.preprocessing import StandardScaler\n",
    "sc_x = StandardScaler()\n",
    "x_train = sc_x.fit_transform(x_train)\n",
    "x_test = sc_x.fit_transform(x_test)"
   ]
  },
  {
   "cell_type": "code",
   "execution_count": 21,
   "metadata": {},
   "outputs": [
    {
     "data": {
      "text/plain": [
       "array([[ 0.61303014,  0.31392496,  0.73603967, -0.18275003,  0.10850105],\n",
       "       [-0.56776627,  1.43843227,  0.34808318,  1.59535841, -0.12400121],\n",
       "       [-0.80392556, -1.37283601, -1.3330616 , -0.77545285,  1.03851009],\n",
       "       [ 0.25879121,  0.31392496,  0.73603967, -0.77545285, -0.12400121],\n",
       "       [ 0.61303014, -0.2483287 ,  1.25331499,  1.59535841, -0.58900572],\n",
       "       [-0.80392556, -0.81058235,  0.21876435,  0.40995278, -0.82150798],\n",
       "       [-0.21352735,  0.87617861, -1.20374277, -0.77545285,  1.73601687],\n",
       "       [ 0.14071157,  0.87617861,  0.47740201, -1.36815566, -0.82150798],\n",
       "       [ 0.02263193,  0.31392496,  0.34808318, -0.77545285, -0.12400121],\n",
       "       [-0.09544771, -0.2483287 , -0.03987331,  1.59535841, -1.05401024],\n",
       "       [ 1.0853487 ,  1.43843227,  1.12399616, -0.18275003, -0.12400121],\n",
       "       [-1.39432376,  0.87617861, -1.3330616 , -0.18275003,  0.34100331],\n",
       "       [ 1.20342834, -0.81058235,  1.38263382,  0.40995278,  0.10850105],\n",
       "       [-1.04008484, -0.2483287 , -0.81578628, -0.18275003,  1.03851009],\n",
       "       [-0.56776627, -0.81058235, -1.3330616 ,  0.40995278,  1.50351461],\n",
       "       [-1.04008484,  0.87617861, -0.29851096,  1.59535841, -2.4490238 ],\n",
       "       [ 0.73110978, -1.37283601,  0.73603967, -0.18275003, -0.12400121],\n",
       "       [ 0.96726906, -0.81058235,  1.64127148,  1.00265559,  0.57350557],\n",
       "       [ 0.14071157,  0.31392496,  0.34808318,  0.40995278, -1.98401928],\n",
       "       [ 0.96726906,  1.43843227,  0.73603967, -0.18275003, -1.2865125 ],\n",
       "       [-0.33160699,  1.43843227, -0.16919214,  0.40995278, -1.2865125 ],\n",
       "       [ 2.14806547, -0.81058235,  1.38263382, -0.18275003, -0.12400121],\n",
       "       [ 0.49495049, -0.2483287 ,  0.47740201,  1.59535841,  0.57350557],\n",
       "       [-0.44968663, -0.81058235, -0.16919214,  0.40995278, -1.51901476],\n",
       "       [ 0.49495049,  1.43843227,  0.73603967, -0.18275003, -0.82150798],\n",
       "       [ 0.49495049, -0.81058235,  0.34808318, -0.77545285, -0.58900572],\n",
       "       [-1.15816448, -1.37283601,  0.60672084,  1.59535841, -1.2865125 ],\n",
       "       [ 0.49495049,  0.87617861,  0.8653585 , -1.36815566, -1.2865125 ],\n",
       "       [ 1.32150798, -0.81058235,  0.21876435,  1.00265559,  0.34100331],\n",
       "       [ 0.73110978, -1.37283601,  0.99467733, -0.77545285, -0.12400121],\n",
       "       [ 0.14071157,  0.87617861,  0.47740201,  0.40995278,  0.80600783],\n",
       "       [-1.27624412, -0.81058235, -1.3330616 , -0.77545285,  0.10850105],\n",
       "       [-0.09544771,  1.43843227,  0.8653585 , -0.77545285, -0.82150798],\n",
       "       [-0.33160699,  0.31392496,  0.08944552,  1.59535841, -0.82150798],\n",
       "       [-0.33160699,  0.31392496,  0.08944552, -0.18275003, -0.35650346],\n",
       "       [-0.44968663, -1.37283601,  0.08944552, -1.36815566, -1.2865125 ],\n",
       "       [ 0.25879121, -0.81058235,  0.21876435, -1.36815566, -0.12400121],\n",
       "       [ 1.55766726,  1.43843227,  0.73603967,  0.40995278,  0.34100331],\n",
       "       [-0.68584591,  1.43843227, -1.3330616 , -0.18275003,  1.50351461],\n",
       "       [-1.86664232,  0.31392496, -1.46238043,  0.40995278, -0.12400121],\n",
       "       [ 0.61303014,  1.43843227,  0.8653585 , -0.77545285, -0.82150798],\n",
       "       [-0.21352735,  0.87617861, -0.03987331, -0.18275003, -0.12400121],\n",
       "       [-0.56776627,  1.43843227, -1.3330616 , -1.36815566,  0.80600783],\n",
       "       [-0.21352735,  0.31392496, -1.07442394,  1.00265559,  3.13103043],\n",
       "       [ 1.20342834, -0.2483287 ,  0.34808318, -1.36815566,  0.10850105],\n",
       "       [-1.5124034 , -0.2483287 , -1.3330616 , -1.36815566,  0.10850105],\n",
       "       [ 0.02263193, -1.37283601,  0.73603967, -0.18275003, -0.12400121],\n",
       "       [-0.9220052 ,  0.87617861, -0.16919214, -0.77545285, -1.2865125 ],\n",
       "       [-1.5124034 , -1.37283601, -1.20374277,  1.59535841,  0.80600783],\n",
       "       [ 0.37687085, -1.37283601,  0.34808318,  0.40995278, -1.98401928],\n",
       "       [ 1.55766726,  1.43843227,  1.64127148, -1.36815566,  1.27101235],\n",
       "       [-0.21352735, -0.2483287 ,  0.08944552, -1.36815566, -0.35650346],\n",
       "       [-1.27624412, -1.37283601, -1.46238043,  1.59535841, -0.12400121],\n",
       "       [ 1.43958762,  0.31392496,  1.12399616, -1.36815566, -0.12400121],\n",
       "       [ 1.20342834, -0.81058235,  1.38263382,  1.00265559,  0.34100331],\n",
       "       [ 0.73110978, -0.2483287 ,  1.25331499, -0.77545285, -0.12400121],\n",
       "       [ 0.61303014, -1.37283601,  1.12399616, -0.18275003, -0.58900572],\n",
       "       [-0.9220052 , -1.37283601, -1.3330616 ,  0.40995278,  1.73601687],\n",
       "       [-1.27624412, -0.81058235, -1.3330616 ,  0.40995278,  0.80600783],\n",
       "       [ 0.73110978,  0.87617861,  0.99467733, -0.18275003,  0.34100331],\n",
       "       [ 0.96726906,  0.31392496,  1.12399616, -1.36815566,  0.57350557],\n",
       "       [-1.63048304, -0.81058235, -1.20374277, -0.18275003, -1.75151702],\n",
       "       [ 0.37687085, -0.81058235,  1.38263382, -1.36815566,  0.80600783],\n",
       "       [-1.15816448, -0.81058235, -1.3330616 ,  0.40995278, -0.12400121],\n",
       "       [-0.21352735,  0.87617861,  0.99467733,  1.00265559, -1.2865125 ],\n",
       "       [ 1.20342834, -0.81058235,  1.12399616, -1.36815566,  0.10850105],\n",
       "       [-1.74856268, -1.37283601, -1.3330616 ,  0.40995278,  0.34100331],\n",
       "       [-1.04008484,  1.43843227, -1.3330616 , -0.77545285,  1.27101235],\n",
       "       [ 1.55766726,  0.31392496,  0.47740201, -0.77545285, -0.12400121],\n",
       "       [-0.9220052 , -0.2483287 , -1.20374277,  1.59535841,  1.03851009],\n",
       "       [-1.74856268,  0.31392496, -1.3330616 , -0.18275003, -0.12400121],\n",
       "       [-0.56776627, -0.2483287 , -1.07442394, -1.36815566,  1.96851913],\n",
       "       [-0.44968663, -0.2483287 ,  0.08944552, -0.77545285, -1.75151702],\n",
       "       [ 1.0853487 , -0.81058235,  1.38263382, -1.36815566,  0.34100331],\n",
       "       [ 2.02998583, -0.81058235,  1.12399616,  1.59535841, -0.12400121],\n",
       "       [-0.9220052 ,  0.87617861, -1.3330616 , -1.36815566,  1.03851009],\n",
       "       [-1.15816448, -0.81058235, -1.46238043,  1.00265559,  0.10850105],\n",
       "       [-0.80392556, -1.37283601, -1.3330616 , -0.77545285,  0.80600783],\n",
       "       [-0.21352735,  1.43843227,  0.08944552, -0.77545285, -0.58900572],\n",
       "       [ 0.84918942, -0.81058235,  0.21876435,  0.40995278, -0.12400121],\n",
       "       [-1.04008484, -0.2483287 , -1.3330616 ,  1.59535841,  0.34100331],\n",
       "       [-0.9220052 , -1.37283601, -0.94510511, -0.77545285,  0.57350557],\n",
       "       [ 0.61303014,  1.43843227,  0.08944552, -1.36815566, -0.35650346],\n",
       "       [-0.56776627, -1.37283601, -1.07442394, -0.18275003,  0.80600783],\n",
       "       [ 2.14806547,  0.87617861,  1.38263382,  1.00265559, -1.05401024],\n",
       "       [-1.15816448,  0.31392496, -0.29851096,  1.59535841, -1.51901476],\n",
       "       [ 2.38422475,  0.87617861,  0.99467733,  1.59535841,  1.73601687],\n",
       "       [ 0.96726906, -0.2483287 ,  0.21876435, -1.36815566,  0.10850105],\n",
       "       [-0.80392556,  0.31392496, -1.46238043,  1.59535841,  2.43352365],\n",
       "       [ 0.14071157,  0.31392496,  0.73603967,  1.00265559, -0.12400121],\n",
       "       [-0.09544771, -0.2483287 , -1.3330616 , -0.77545285,  2.20102139],\n",
       "       [ 2.14806547, -0.81058235,  0.99467733,  0.40995278, -0.58900572],\n",
       "       [-0.9220052 , -1.37283601, -1.20374277, -0.18275003,  1.73601687],\n",
       "       [-1.39432376, -0.81058235, -1.3330616 ,  1.59535841,  0.34100331],\n",
       "       [ 1.79382654,  0.87617861,  0.8653585 , -0.77545285, -0.58900572],\n",
       "       [-1.04008484, -0.81058235, -1.3330616 , -0.18275003,  0.57350557],\n",
       "       [ 0.49495049,  1.43843227,  1.51195265,  1.59535841,  0.80600783],\n",
       "       [-0.21352735, -1.37283601,  0.08944552,  0.40995278, -0.58900572],\n",
       "       [-0.09544771,  1.43843227, -0.03987331, -1.36815566, -0.82150798],\n",
       "       [-0.21352735,  0.31392496, -0.29851096,  0.40995278, -1.05401024],\n",
       "       [ 0.61303014, -0.2483287 ,  1.38263382, -0.77545285,  0.34100331],\n",
       "       [ 0.96726906, -1.37283601,  1.38263382,  0.40995278, -0.12400121],\n",
       "       [ 0.49495049,  0.31392496,  0.34808318,  1.59535841, -1.2865125 ],\n",
       "       [ 0.96726906,  0.87617861,  0.60672084, -0.18275003, -0.12400121],\n",
       "       [-1.04008484,  1.43843227, -1.3330616 ,  1.00265559, -0.12400121],\n",
       "       [-0.44968663,  0.31392496, -0.29851096, -1.36815566, -1.51901476],\n",
       "       [ 0.96726906,  1.43843227,  1.51195265,  0.40995278,  0.10850105],\n",
       "       [-0.09544771, -1.37283601,  0.8653585 , -0.18275003, -0.82150798],\n",
       "       [-0.9220052 , -1.37283601, -1.3330616 ,  1.00265559,  0.80600783],\n",
       "       [ 0.84918942, -0.81058235,  0.08944552, -1.36815566, -0.35650346],\n",
       "       [-0.33160699,  0.87617861,  0.08944552, -0.77545285, -0.12400121],\n",
       "       [ 0.02263193,  1.43843227,  0.73603967, -0.77545285,  0.34100331],\n",
       "       [ 0.49495049,  0.87617861,  0.08944552, -0.18275003, -1.75151702],\n",
       "       [-0.44968663,  1.43843227, -1.3330616 ,  1.59535841,  1.03851009],\n",
       "       [-0.9220052 , -0.81058235, -1.07442394,  0.40995278,  1.50351461],\n",
       "       [-1.15816448, -1.37283601, -1.46238043,  1.59535841,  0.10850105],\n",
       "       [ 0.49495049, -0.81058235,  0.73603967,  0.40995278, -0.35650346],\n",
       "       [-0.09544771,  1.43843227, -0.29851096,  0.40995278, -0.82150798],\n",
       "       [ 2.14806547,  1.43843227,  1.25331499, -1.36815566,  1.73601687],\n",
       "       [-1.5124034 ,  1.43843227, -1.3330616 , -0.18275003,  0.34100331]])"
      ]
     },
     "execution_count": 21,
     "metadata": {},
     "output_type": "execute_result"
    }
   ],
   "source": [
    "x_train"
   ]
  },
  {
   "cell_type": "code",
   "execution_count": 22,
   "metadata": {},
   "outputs": [
    {
     "data": {
      "text/plain": [
       "array([[ 0.14956537, -0.9100664 ,  1.91948971,  0.06608186, -0.58304897],\n",
       "       [ 0.43000045,  0.30335547, -0.10102577, -0.59473674, -1.9460206 ],\n",
       "       [-0.27108724, -0.9100664 , -1.25560605,  0.72690046,  2.59721815],\n",
       "       [ 2.25282843,  0.9100664 ,  1.0535545 ,  0.06608186, -0.35588703],\n",
       "       [-0.97217492,  0.30335547, -1.25560605, -0.59473674,  0.77992265],\n",
       "       [ 0.85065306, -0.30335547,  2.06381224, -1.91637394,  0.55276071],\n",
       "       [-0.97217492,  0.30335547, -1.11128352, -0.59473674,  1.00708459],\n",
       "       [ 1.41152321, -1.51677734,  0.6205869 ,  0.06608186,  0.09843684],\n",
       "       [ 1.55174074,  0.9100664 ,  0.47626436,  1.38771906, -0.58304897],\n",
       "       [ 0.57021798, -0.9100664 ,  0.33194183,  0.72690046, -0.58304897],\n",
       "       [ 0.57021798, -0.9100664 ,  0.47626436, -1.25555534, -1.03737285],\n",
       "       [ 0.9908706 ,  0.9100664 ,  0.6205869 ,  0.72690046,  0.32559878],\n",
       "       [ 0.57021798,  0.30335547,  0.18761929,  0.72690046, -0.58304897],\n",
       "       [ 1.13108813,  0.9100664 ,  0.6205869 , -0.59473674, -0.58304897],\n",
       "       [ 0.57021798,  1.51677734,  0.47626436,  0.06608186, -0.35588703],\n",
       "       [-1.11239246, -1.51677734, -1.39992858,  0.72690046,  0.09843684],\n",
       "       [ 0.43000045, -0.9100664 ,  0.6205869 ,  0.72690046, -0.35588703],\n",
       "       [-0.27108724, -0.30335547,  0.18761929, -1.91637394, -1.03737285],\n",
       "       [-1.25261   , -0.9100664 , -1.11128352, -1.25555534, -0.1287251 ],\n",
       "       [-0.41130478, -0.9100664 , -0.96696098,  0.72690046,  1.91573234],\n",
       "       [-0.1308697 ,  1.51677734,  1.34219957,  0.72690046, -0.58304897],\n",
       "       [-0.1308697 ,  1.51677734,  0.6205869 ,  1.38771906, -0.1287251 ],\n",
       "       [-1.25261   , -0.30335547, -1.25560605,  0.06608186,  0.77992265],\n",
       "       [-1.81348015,  0.9100664 , -1.25560605,  1.38771906, -0.35588703],\n",
       "       [ 0.71043552, -0.30335547,  1.0535545 ,  0.06608186, -0.58304897],\n",
       "       [-1.53304507, -0.9100664 , -1.25560605,  0.72690046,  1.23424653],\n",
       "       [-0.83195739, -0.30335547, -0.96696098, -0.59473674,  1.6885704 ],\n",
       "       [ 0.71043552,  1.51677734,  0.33194183, -1.91637394, -0.35588703],\n",
       "       [-0.97217492,  1.51677734, -0.10102577,  1.38771906, -1.71885866],\n",
       "       [-0.97217492, -1.51677734, -0.96696098, -1.25555534,  0.77992265]])"
      ]
     },
     "execution_count": 22,
     "metadata": {},
     "output_type": "execute_result"
    }
   ],
   "source": [
    "x_test"
   ]
  },
  {
   "cell_type": "code",
   "execution_count": 23,
   "metadata": {},
   "outputs": [
    {
     "data": {
      "text/html": [
       "<div>\n",
       "<style scoped>\n",
       "    .dataframe tbody tr th:only-of-type {\n",
       "        vertical-align: middle;\n",
       "    }\n",
       "\n",
       "    .dataframe tbody tr th {\n",
       "        vertical-align: top;\n",
       "    }\n",
       "\n",
       "    .dataframe thead th {\n",
       "        text-align: right;\n",
       "    }\n",
       "</style>\n",
       "<table border=\"1\" class=\"dataframe\">\n",
       "  <thead>\n",
       "    <tr style=\"text-align: right;\">\n",
       "      <th></th>\n",
       "      <th>Target</th>\n",
       "    </tr>\n",
       "  </thead>\n",
       "  <tbody>\n",
       "    <tr>\n",
       "      <th>137</th>\n",
       "      <td>2</td>\n",
       "    </tr>\n",
       "    <tr>\n",
       "      <th>84</th>\n",
       "      <td>1</td>\n",
       "    </tr>\n",
       "    <tr>\n",
       "      <th>27</th>\n",
       "      <td>0</td>\n",
       "    </tr>\n",
       "    <tr>\n",
       "      <th>127</th>\n",
       "      <td>2</td>\n",
       "    </tr>\n",
       "    <tr>\n",
       "      <th>132</th>\n",
       "      <td>2</td>\n",
       "    </tr>\n",
       "    <tr>\n",
       "      <th>...</th>\n",
       "      <td>...</td>\n",
       "    </tr>\n",
       "    <tr>\n",
       "      <th>9</th>\n",
       "      <td>0</td>\n",
       "    </tr>\n",
       "    <tr>\n",
       "      <th>103</th>\n",
       "      <td>2</td>\n",
       "    </tr>\n",
       "    <tr>\n",
       "      <th>67</th>\n",
       "      <td>1</td>\n",
       "    </tr>\n",
       "    <tr>\n",
       "      <th>117</th>\n",
       "      <td>2</td>\n",
       "    </tr>\n",
       "    <tr>\n",
       "      <th>47</th>\n",
       "      <td>0</td>\n",
       "    </tr>\n",
       "  </tbody>\n",
       "</table>\n",
       "<p>120 rows × 1 columns</p>\n",
       "</div>"
      ],
      "text/plain": [
       "     Target\n",
       "137       2\n",
       "84        1\n",
       "27        0\n",
       "127       2\n",
       "132       2\n",
       "..      ...\n",
       "9         0\n",
       "103       2\n",
       "67        1\n",
       "117       2\n",
       "47        0\n",
       "\n",
       "[120 rows x 1 columns]"
      ]
     },
     "execution_count": 23,
     "metadata": {},
     "output_type": "execute_result"
    }
   ],
   "source": [
    "y_train"
   ]
  },
  {
   "cell_type": "code",
   "execution_count": 24,
   "metadata": {},
   "outputs": [
    {
     "data": {
      "text/html": [
       "<div>\n",
       "<style scoped>\n",
       "    .dataframe tbody tr th:only-of-type {\n",
       "        vertical-align: middle;\n",
       "    }\n",
       "\n",
       "    .dataframe tbody tr th {\n",
       "        vertical-align: top;\n",
       "    }\n",
       "\n",
       "    .dataframe thead th {\n",
       "        text-align: right;\n",
       "    }\n",
       "</style>\n",
       "<table border=\"1\" class=\"dataframe\">\n",
       "  <thead>\n",
       "    <tr style=\"text-align: right;\">\n",
       "      <th></th>\n",
       "      <th>Target</th>\n",
       "    </tr>\n",
       "  </thead>\n",
       "  <tbody>\n",
       "    <tr>\n",
       "      <th>114</th>\n",
       "      <td>2</td>\n",
       "    </tr>\n",
       "    <tr>\n",
       "      <th>62</th>\n",
       "      <td>1</td>\n",
       "    </tr>\n",
       "    <tr>\n",
       "      <th>33</th>\n",
       "      <td>0</td>\n",
       "    </tr>\n",
       "    <tr>\n",
       "      <th>107</th>\n",
       "      <td>2</td>\n",
       "    </tr>\n",
       "    <tr>\n",
       "      <th>7</th>\n",
       "      <td>0</td>\n",
       "    </tr>\n",
       "    <tr>\n",
       "      <th>100</th>\n",
       "      <td>2</td>\n",
       "    </tr>\n",
       "    <tr>\n",
       "      <th>40</th>\n",
       "      <td>0</td>\n",
       "    </tr>\n",
       "    <tr>\n",
       "      <th>86</th>\n",
       "      <td>1</td>\n",
       "    </tr>\n",
       "    <tr>\n",
       "      <th>76</th>\n",
       "      <td>1</td>\n",
       "    </tr>\n",
       "    <tr>\n",
       "      <th>71</th>\n",
       "      <td>1</td>\n",
       "    </tr>\n",
       "    <tr>\n",
       "      <th>134</th>\n",
       "      <td>2</td>\n",
       "    </tr>\n",
       "    <tr>\n",
       "      <th>51</th>\n",
       "      <td>1</td>\n",
       "    </tr>\n",
       "    <tr>\n",
       "      <th>73</th>\n",
       "      <td>1</td>\n",
       "    </tr>\n",
       "    <tr>\n",
       "      <th>54</th>\n",
       "      <td>1</td>\n",
       "    </tr>\n",
       "    <tr>\n",
       "      <th>63</th>\n",
       "      <td>1</td>\n",
       "    </tr>\n",
       "    <tr>\n",
       "      <th>37</th>\n",
       "      <td>0</td>\n",
       "    </tr>\n",
       "    <tr>\n",
       "      <th>78</th>\n",
       "      <td>1</td>\n",
       "    </tr>\n",
       "    <tr>\n",
       "      <th>90</th>\n",
       "      <td>1</td>\n",
       "    </tr>\n",
       "    <tr>\n",
       "      <th>45</th>\n",
       "      <td>0</td>\n",
       "    </tr>\n",
       "    <tr>\n",
       "      <th>16</th>\n",
       "      <td>0</td>\n",
       "    </tr>\n",
       "    <tr>\n",
       "      <th>121</th>\n",
       "      <td>2</td>\n",
       "    </tr>\n",
       "    <tr>\n",
       "      <th>66</th>\n",
       "      <td>1</td>\n",
       "    </tr>\n",
       "    <tr>\n",
       "      <th>24</th>\n",
       "      <td>0</td>\n",
       "    </tr>\n",
       "    <tr>\n",
       "      <th>8</th>\n",
       "      <td>0</td>\n",
       "    </tr>\n",
       "    <tr>\n",
       "      <th>126</th>\n",
       "      <td>2</td>\n",
       "    </tr>\n",
       "    <tr>\n",
       "      <th>22</th>\n",
       "      <td>0</td>\n",
       "    </tr>\n",
       "    <tr>\n",
       "      <th>44</th>\n",
       "      <td>0</td>\n",
       "    </tr>\n",
       "    <tr>\n",
       "      <th>97</th>\n",
       "      <td>1</td>\n",
       "    </tr>\n",
       "    <tr>\n",
       "      <th>93</th>\n",
       "      <td>1</td>\n",
       "    </tr>\n",
       "    <tr>\n",
       "      <th>26</th>\n",
       "      <td>0</td>\n",
       "    </tr>\n",
       "  </tbody>\n",
       "</table>\n",
       "</div>"
      ],
      "text/plain": [
       "     Target\n",
       "114       2\n",
       "62        1\n",
       "33        0\n",
       "107       2\n",
       "7         0\n",
       "100       2\n",
       "40        0\n",
       "86        1\n",
       "76        1\n",
       "71        1\n",
       "134       2\n",
       "51        1\n",
       "73        1\n",
       "54        1\n",
       "63        1\n",
       "37        0\n",
       "78        1\n",
       "90        1\n",
       "45        0\n",
       "16        0\n",
       "121       2\n",
       "66        1\n",
       "24        0\n",
       "8         0\n",
       "126       2\n",
       "22        0\n",
       "44        0\n",
       "97        1\n",
       "93        1\n",
       "26        0"
      ]
     },
     "execution_count": 24,
     "metadata": {},
     "output_type": "execute_result"
    }
   ],
   "source": [
    "y_test"
   ]
  },
  {
   "cell_type": "markdown",
   "metadata": {},
   "source": [
    "## Applying Different Algorithms"
   ]
  },
  {
   "cell_type": "markdown",
   "metadata": {},
   "source": [
    "### Logistic Regression "
   ]
  },
  {
   "cell_type": "code",
   "execution_count": 25,
   "metadata": {},
   "outputs": [
    {
     "name": "stderr",
     "output_type": "stream",
     "text": [
      "C:\\Users\\Anil\\anaconda3\\lib\\site-packages\\sklearn\\utils\\validation.py:73: DataConversionWarning: A column-vector y was passed when a 1d array was expected. Please change the shape of y to (n_samples, ), for example using ravel().\n",
      "  return f(**kwargs)\n"
     ]
    }
   ],
   "source": [
    "from sklearn import datasets, linear_model, metrics\n",
    "from sklearn.metrics import confusion_matrix\n",
    "from sklearn.metrics import classification_report\n",
    "reg = linear_model.LogisticRegression()\n",
    "reg.fit(x_train, y_train)\n",
    "y_pred1 = reg.predict(x_test)"
   ]
  },
  {
   "cell_type": "markdown",
   "metadata": {},
   "source": [
    "**Accuracy for Logistic Regression**"
   ]
  },
  {
   "cell_type": "code",
   "execution_count": 26,
   "metadata": {},
   "outputs": [
    {
     "name": "stdout",
     "output_type": "stream",
     "text": [
      "Logistic Regression model accuracy(in %): 83.33333333333334\n"
     ]
    }
   ],
   "source": [
    "print(\"Logistic Regression model accuracy(in %):\", metrics.accuracy_score(y_test, y_pred1)*100)"
   ]
  },
  {
   "cell_type": "markdown",
   "metadata": {},
   "source": [
    "**Confusion Matrix - Logistic Regression**"
   ]
  },
  {
   "cell_type": "code",
   "execution_count": 27,
   "metadata": {},
   "outputs": [
    {
     "name": "stdout",
     "output_type": "stream",
     "text": [
      "Confusion Matrix - Logistic Regression:\n",
      " [[11  0  0]\n",
      " [ 0  8  5]\n",
      " [ 0  0  6]]\n"
     ]
    }
   ],
   "source": [
    "print(\"Confusion Matrix - Logistic Regression:\\n\",confusion_matrix(y_test, y_pred1))"
   ]
  },
  {
   "cell_type": "markdown",
   "metadata": {},
   "source": [
    "**Report**"
   ]
  },
  {
   "cell_type": "code",
   "execution_count": 28,
   "metadata": {},
   "outputs": [
    {
     "name": "stdout",
     "output_type": "stream",
     "text": [
      "Report :                precision    recall  f1-score   support\n",
      "\n",
      "           0       1.00      1.00      1.00        11\n",
      "           1       1.00      0.62      0.76        13\n",
      "           2       0.55      1.00      0.71         6\n",
      "\n",
      "    accuracy                           0.83        30\n",
      "   macro avg       0.85      0.87      0.82        30\n",
      "weighted avg       0.91      0.83      0.84        30\n",
      "\n"
     ]
    }
   ],
   "source": [
    "print(\"Report : \", classification_report(y_test, y_pred1))"
   ]
  },
  {
   "cell_type": "markdown",
   "metadata": {},
   "source": [
    "###  Decision Tree Algorithm"
   ]
  },
  {
   "cell_type": "code",
   "execution_count": 29,
   "metadata": {},
   "outputs": [
    {
     "name": "stdout",
     "output_type": "stream",
     "text": [
      "Results Using Gini Index:\n",
      "\n",
      "*****************************************************\n",
      "Predicted values:\n",
      "\n",
      "[2 1 0 2 0 2 0 1 1 1 1 1 1 1 1 0 1 1 0 0 2 1 0 0 2 0 0 1 1 0]\n",
      "Confusion Matrix: \n",
      " [[11  0  0]\n",
      " [ 0 13  0]\n",
      " [ 0  1  5]]\n",
      "Accuracy :  96.66666666666667\n",
      "Report:\n",
      "                precision    recall  f1-score   support\n",
      "\n",
      "           0       1.00      1.00      1.00        11\n",
      "           1       0.93      1.00      0.96        13\n",
      "           2       1.00      0.83      0.91         6\n",
      "\n",
      "    accuracy                           0.97        30\n",
      "   macro avg       0.98      0.94      0.96        30\n",
      "weighted avg       0.97      0.97      0.97        30\n",
      "\n",
      "Results Using Entropy:\n",
      "\n",
      "*****************************************************\n",
      "Predicted values:\n",
      "\n",
      "[2 1 0 2 0 2 0 1 1 1 1 1 1 1 1 0 1 1 0 0 2 1 0 0 2 0 0 1 1 0]\n",
      "Confusion Matrix: \n",
      " [[11  0  0]\n",
      " [ 0 13  0]\n",
      " [ 0  1  5]]\n",
      "Accuracy :  96.66666666666667\n",
      "Report:\n",
      "                precision    recall  f1-score   support\n",
      "\n",
      "           0       1.00      1.00      1.00        11\n",
      "           1       0.93      1.00      0.96        13\n",
      "           2       1.00      0.83      0.91         6\n",
      "\n",
      "    accuracy                           0.97        30\n",
      "   macro avg       0.98      0.94      0.96        30\n",
      "weighted avg       0.97      0.97      0.97        30\n",
      "\n"
     ]
    }
   ],
   "source": [
    "import numpy as np\n",
    "import pandas as pd\n",
    "from sklearn.metrics import confusion_matrix\n",
    "from sklearn.model_selection import train_test_split\n",
    "from sklearn.tree import DecisionTreeClassifier\n",
    "from sklearn.metrics import accuracy_score\n",
    "from sklearn.metrics import classification_report\n",
    "\n",
    "\n",
    "def train_using_gini(x_train, x_test, y_train):\n",
    "    clf_gini = DecisionTreeClassifier(criterion = \"gini\",\n",
    "            random_state = 100,max_depth=3, min_samples_leaf=5)\n",
    " \n",
    "    clf_gini.fit(x_train, y_train)\n",
    "    return clf_gini\n",
    "      \n",
    "def tarin_using_entropy(x_train, x_test, y_train):\n",
    "    clf_entropy = DecisionTreeClassifier(\n",
    "            criterion = \"entropy\", random_state = 100,\n",
    "            max_depth = 3, min_samples_leaf = 5)\n",
    "  \n",
    "    clf_entropy.fit(x_train, y_train)\n",
    "    return clf_entropy\n",
    "  \n",
    "\n",
    "def prediction(x_test, clf_object):\n",
    "    y_pred2 = clf_object.predict(x_test)\n",
    "    print(\"Predicted values:\\n\")\n",
    "    print(y_pred2)\n",
    "    return y_pred2\n",
    "      \n",
    "\n",
    "def cal_accuracy(y_test, y_pred2):    \n",
    "    print(\"Confusion Matrix: \\n\",confusion_matrix(y_test, y_pred2))\n",
    "    print (\"Accuracy : \", accuracy_score(y_test,y_pred2)*100)\n",
    "    print(\"Report:\\n \", classification_report(y_test, y_pred2))\n",
    "\n",
    "def main():\n",
    "    \n",
    "    clf_gini = train_using_gini(x_train, x_test, y_train)\n",
    "    clf_entropy = tarin_using_entropy(x_train, x_test, y_train)\n",
    "    print(\"Results Using Gini Index:\\n\")\n",
    "    print(\"*****************************************************\")\n",
    "    y_pred_gini = prediction(x_test, clf_gini)\n",
    "    cal_accuracy(y_test, y_pred_gini)\n",
    "    print(\"Results Using Entropy:\\n\")\n",
    "    print(\"*****************************************************\")\n",
    "\n",
    "    y_pred_entropy = prediction(x_test, clf_entropy)\n",
    "    cal_accuracy(y_test, y_pred_entropy)\n",
    "      \n",
    "if __name__==\"__main__\":\n",
    "    main()"
   ]
  },
  {
   "cell_type": "markdown",
   "metadata": {},
   "source": [
    "### Naive Bayes "
   ]
  },
  {
   "cell_type": "code",
   "execution_count": 30,
   "metadata": {},
   "outputs": [
    {
     "name": "stderr",
     "output_type": "stream",
     "text": [
      "C:\\Users\\Anil\\anaconda3\\lib\\site-packages\\sklearn\\utils\\validation.py:73: DataConversionWarning: A column-vector y was passed when a 1d array was expected. Please change the shape of y to (n_samples, ), for example using ravel().\n",
      "  return f(**kwargs)\n"
     ]
    }
   ],
   "source": [
    "from sklearn import metrics\n",
    "from sklearn.naive_bayes import GaussianNB\n",
    "gnb = GaussianNB()\n",
    "gnb.fit(x_train, y_train)\n",
    "y_pred3 = gnb.predict(x_test)\n"
   ]
  },
  {
   "cell_type": "markdown",
   "metadata": {},
   "source": [
    "**Accuracy for Naive Bayes**"
   ]
  },
  {
   "cell_type": "code",
   "execution_count": 31,
   "metadata": {},
   "outputs": [
    {
     "name": "stdout",
     "output_type": "stream",
     "text": [
      "Gaussian Naive Bayes model accuracy(in %): 80.0\n"
     ]
    }
   ],
   "source": [
    "print(\"Gaussian Naive Bayes model accuracy(in %):\", metrics.accuracy_score(y_test, y_pred3)*100)"
   ]
  },
  {
   "cell_type": "markdown",
   "metadata": {},
   "source": [
    "### Support Vector Machine"
   ]
  },
  {
   "cell_type": "code",
   "execution_count": 32,
   "metadata": {},
   "outputs": [
    {
     "name": "stderr",
     "output_type": "stream",
     "text": [
      "C:\\Users\\Anil\\anaconda3\\lib\\site-packages\\sklearn\\utils\\validation.py:73: DataConversionWarning: A column-vector y was passed when a 1d array was expected. Please change the shape of y to (n_samples, ), for example using ravel().\n",
      "  return f(**kwargs)\n"
     ]
    },
    {
     "data": {
      "text/plain": [
       "SVC(kernel='linear', random_state=0)"
      ]
     },
     "execution_count": 32,
     "metadata": {},
     "output_type": "execute_result"
    }
   ],
   "source": [
    "from sklearn.svm import SVC \n",
    "from sklearn.metrics import accuracy_score, confusion_matrix\n",
    "classifier = SVC(kernel='linear', random_state=0)  \n",
    "classifier.fit(x_train, y_train)"
   ]
  },
  {
   "cell_type": "code",
   "execution_count": 33,
   "metadata": {},
   "outputs": [
    {
     "data": {
      "text/plain": [
       "array([2, 1, 0, 2, 0, 2, 0, 2, 2, 1, 2, 1, 1, 2, 1, 0, 2, 1, 0, 0, 2, 1,\n",
       "       0, 0, 2, 0, 0, 1, 1, 0])"
      ]
     },
     "execution_count": 33,
     "metadata": {},
     "output_type": "execute_result"
    }
   ],
   "source": [
    "y_pred4= classifier.predict(x_test)  \n",
    "y_pred4"
   ]
  },
  {
   "cell_type": "markdown",
   "metadata": {},
   "source": [
    "**Accuracy for SVM**"
   ]
  },
  {
   "cell_type": "code",
   "execution_count": 34,
   "metadata": {},
   "outputs": [
    {
     "name": "stdout",
     "output_type": "stream",
     "text": [
      "0.9583333333333334\n",
      "0.8666666666666667\n"
     ]
    }
   ],
   "source": [
    "print(classifier.score(x_train, y_train))\n",
    "print(classifier.score(x_test, y_test))"
   ]
  },
  {
   "cell_type": "markdown",
   "metadata": {},
   "source": [
    "**Confusion Matrix - SVM:**"
   ]
  },
  {
   "cell_type": "code",
   "execution_count": 35,
   "metadata": {},
   "outputs": [
    {
     "name": "stdout",
     "output_type": "stream",
     "text": [
      "Confusion Matrix - SVM\n",
      " [[11  0  0]\n",
      " [ 0  9  4]\n",
      " [ 0  0  6]]\n"
     ]
    }
   ],
   "source": [
    "from sklearn.metrics import confusion_matrix  \n",
    "cm_svm= confusion_matrix(y_test, y_pred4)\n",
    "print(\"Confusion Matrix - SVM\\n\",cm_svm)"
   ]
  },
  {
   "cell_type": "markdown",
   "metadata": {},
   "source": [
    "### XGBoost Algorithm"
   ]
  },
  {
   "cell_type": "code",
   "execution_count": 36,
   "metadata": {},
   "outputs": [
    {
     "name": "stderr",
     "output_type": "stream",
     "text": [
      "C:\\Users\\Anil\\anaconda3\\lib\\site-packages\\sklearn\\utils\\validation.py:73: DataConversionWarning: A column-vector y was passed when a 1d array was expected. Please change the shape of y to (n_samples, ), for example using ravel().\n",
      "  return f(**kwargs)\n"
     ]
    }
   ],
   "source": [
    "from xgboost import XGBClassifier\n",
    "from sklearn.metrics import confusion_matrix, accuracy_score\n",
    "classifier = XGBClassifier()\n",
    "classifier.fit(x_train, y_train)\n",
    "y_pred5 = classifier.predict(x_test)"
   ]
  },
  {
   "cell_type": "markdown",
   "metadata": {},
   "source": [
    "**Accuracy of XGBoost**"
   ]
  },
  {
   "cell_type": "code",
   "execution_count": 37,
   "metadata": {},
   "outputs": [
    {
     "name": "stdout",
     "output_type": "stream",
     "text": [
      "Accuracy of XG-Boost:\n",
      " 90.0\n"
     ]
    }
   ],
   "source": [
    "print(\"Accuracy of XG-Boost:\\n\",accuracy_score(y_test, y_pred5)*100)"
   ]
  },
  {
   "cell_type": "markdown",
   "metadata": {},
   "source": [
    "**Confusion Matrix - XGBoost**"
   ]
  },
  {
   "cell_type": "code",
   "execution_count": 38,
   "metadata": {},
   "outputs": [
    {
     "name": "stdout",
     "output_type": "stream",
     "text": [
      "Confusion Matrix - XGBoost:\n",
      " [[11  0  0]\n",
      " [ 0 10  3]\n",
      " [ 0  0  6]]\n"
     ]
    }
   ],
   "source": [
    "cm_xg = confusion_matrix(y_test, y_pred5)\n",
    "print(\"Confusion Matrix - XGBoost:\\n\",cm_xg)"
   ]
  },
  {
   "cell_type": "markdown",
   "metadata": {},
   "source": [
    "**we want to test few other algorithms for regression to see if we can get even better score. We will use GridSearchCV for this purpose**"
   ]
  },
  {
   "cell_type": "code",
   "execution_count": 39,
   "metadata": {},
   "outputs": [
    {
     "data": {
      "text/html": [
       "<div>\n",
       "<style scoped>\n",
       "    .dataframe tbody tr th:only-of-type {\n",
       "        vertical-align: middle;\n",
       "    }\n",
       "\n",
       "    .dataframe tbody tr th {\n",
       "        vertical-align: top;\n",
       "    }\n",
       "\n",
       "    .dataframe thead th {\n",
       "        text-align: right;\n",
       "    }\n",
       "</style>\n",
       "<table border=\"1\" class=\"dataframe\">\n",
       "  <thead>\n",
       "    <tr style=\"text-align: right;\">\n",
       "      <th></th>\n",
       "      <th>model</th>\n",
       "      <th>best_score</th>\n",
       "      <th>best_params</th>\n",
       "    </tr>\n",
       "  </thead>\n",
       "  <tbody>\n",
       "    <tr>\n",
       "      <th>0</th>\n",
       "      <td>linear_regression</td>\n",
       "      <td>0.914862</td>\n",
       "      <td>{'normalize': False}</td>\n",
       "    </tr>\n",
       "    <tr>\n",
       "      <th>1</th>\n",
       "      <td>decision_tree</td>\n",
       "      <td>0.875841</td>\n",
       "      <td>{'criterion': 'mse', 'splitter': 'random'}</td>\n",
       "    </tr>\n",
       "  </tbody>\n",
       "</table>\n",
       "</div>"
      ],
      "text/plain": [
       "               model  best_score                                 best_params\n",
       "0  linear_regression    0.914862                        {'normalize': False}\n",
       "1      decision_tree    0.875841  {'criterion': 'mse', 'splitter': 'random'}"
      ]
     },
     "execution_count": 39,
     "metadata": {},
     "output_type": "execute_result"
    }
   ],
   "source": [
    "from sklearn.model_selection import GridSearchCV\n",
    "from sklearn.linear_model import LinearRegression\n",
    "from sklearn.tree import DecisionTreeRegressor\n",
    "from sklearn.model_selection import ShuffleSplit\n",
    "\n",
    "def find_best_model_using_gridsearchcv(x,y):\n",
    "    algos = {\n",
    "        'linear_regression' : {\n",
    "            'model': LinearRegression(),\n",
    "            'params': {\n",
    "                'normalize': [True, False]\n",
    "            }\n",
    "        },\n",
    "        \n",
    "        'decision_tree': {\n",
    "            'model': DecisionTreeRegressor(),\n",
    "            'params': {\n",
    "                'criterion' : ['mse','friedman_mse'],\n",
    "                'splitter': ['best','random']\n",
    "            }\n",
    "        }\n",
    "    }\n",
    "    scores = []\n",
    "    cv = ShuffleSplit(n_splits=5, test_size=0.2, random_state=0)\n",
    "    for algo_name, config in algos.items():\n",
    "        gs =  GridSearchCV(config['model'], config['params'], cv=cv, return_train_score=False)\n",
    "        gs.fit(x,y)\n",
    "        scores.append({\n",
    "            'model': algo_name,\n",
    "            'best_score': gs.best_score_,\n",
    "            'best_params': gs.best_params_\n",
    "        })\n",
    "\n",
    "    return pd.DataFrame(scores,columns=['model','best_score','best_params'])\n",
    "\n",
    "find_best_model_using_gridsearchcv(x,y)"
   ]
  },
  {
   "cell_type": "code",
   "execution_count": null,
   "metadata": {},
   "outputs": [],
   "source": []
  },
  {
   "cell_type": "code",
   "execution_count": null,
   "metadata": {},
   "outputs": [],
   "source": []
  }
 ],
 "metadata": {
  "hide_input": false,
  "kernelspec": {
   "display_name": "Python 3",
   "language": "python",
   "name": "python3"
  },
  "language_info": {
   "codemirror_mode": {
    "name": "ipython",
    "version": 3
   },
   "file_extension": ".py",
   "mimetype": "text/x-python",
   "name": "python",
   "nbconvert_exporter": "python",
   "pygments_lexer": "ipython3",
   "version": "3.7.6"
  },
  "toc": {
   "base_numbering": 1,
   "nav_menu": {},
   "number_sections": true,
   "sideBar": true,
   "skip_h1_title": false,
   "title_cell": "Table of Contents",
   "title_sidebar": "Contents",
   "toc_cell": false,
   "toc_position": {},
   "toc_section_display": true,
   "toc_window_display": false
  }
 },
 "nbformat": 4,
 "nbformat_minor": 4
}
