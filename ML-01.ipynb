{
 "cells": [
  {
   "cell_type": "markdown",
   "metadata": {},
   "source": [
    "# TASK-01"
   ]
  },
  {
   "cell_type": "markdown",
   "metadata": {},
   "source": [
    "**Importing necessary libraries**"
   ]
  },
  {
   "cell_type": "code",
   "execution_count": 1,
   "metadata": {},
   "outputs": [],
   "source": [
    "import numpy as np\n",
    "import pandas as pd\n",
    "import matplotlib.pyplot as plt\n",
    "import seaborn as sns"
   ]
  },
  {
   "cell_type": "markdown",
   "metadata": {},
   "source": [
    "**Load data into a Data the DataFrame**"
   ]
  },
  {
   "cell_type": "code",
   "execution_count": 2,
   "metadata": {},
   "outputs": [
    {
     "data": {
      "text/html": [
       "<div>\n",
       "<style scoped>\n",
       "    .dataframe tbody tr th:only-of-type {\n",
       "        vertical-align: middle;\n",
       "    }\n",
       "\n",
       "    .dataframe tbody tr th {\n",
       "        vertical-align: top;\n",
       "    }\n",
       "\n",
       "    .dataframe thead th {\n",
       "        text-align: right;\n",
       "    }\n",
       "</style>\n",
       "<table border=\"1\" class=\"dataframe\">\n",
       "  <thead>\n",
       "    <tr style=\"text-align: right;\">\n",
       "      <th></th>\n",
       "      <th>Id</th>\n",
       "      <th>Feature_1</th>\n",
       "      <th>Feature_2</th>\n",
       "      <th>Feature_3</th>\n",
       "      <th>Feature_4</th>\n",
       "      <th>target</th>\n",
       "    </tr>\n",
       "  </thead>\n",
       "  <tbody>\n",
       "    <tr>\n",
       "      <th>0</th>\n",
       "      <td>1</td>\n",
       "      <td>5.1</td>\n",
       "      <td>3.5</td>\n",
       "      <td>1.4</td>\n",
       "      <td>0.2</td>\n",
       "      <td>Class_1</td>\n",
       "    </tr>\n",
       "    <tr>\n",
       "      <th>1</th>\n",
       "      <td>2</td>\n",
       "      <td>4.9</td>\n",
       "      <td>3.0</td>\n",
       "      <td>1.4</td>\n",
       "      <td>0.2</td>\n",
       "      <td>Class_1</td>\n",
       "    </tr>\n",
       "    <tr>\n",
       "      <th>2</th>\n",
       "      <td>3</td>\n",
       "      <td>4.7</td>\n",
       "      <td>3.2</td>\n",
       "      <td>1.3</td>\n",
       "      <td>0.2</td>\n",
       "      <td>Class_1</td>\n",
       "    </tr>\n",
       "    <tr>\n",
       "      <th>3</th>\n",
       "      <td>4</td>\n",
       "      <td>4.6</td>\n",
       "      <td>3.1</td>\n",
       "      <td>1.5</td>\n",
       "      <td>0.2</td>\n",
       "      <td>Class_1</td>\n",
       "    </tr>\n",
       "    <tr>\n",
       "      <th>4</th>\n",
       "      <td>5</td>\n",
       "      <td>5.0</td>\n",
       "      <td>3.6</td>\n",
       "      <td>1.4</td>\n",
       "      <td>0.2</td>\n",
       "      <td>Class_1</td>\n",
       "    </tr>\n",
       "  </tbody>\n",
       "</table>\n",
       "</div>"
      ],
      "text/plain": [
       "   Id  Feature_1  Feature_2  Feature_3  Feature_4   target\n",
       "0   1        5.1        3.5        1.4        0.2  Class_1\n",
       "1   2        4.9        3.0        1.4        0.2  Class_1\n",
       "2   3        4.7        3.2        1.3        0.2  Class_1\n",
       "3   4        4.6        3.1        1.5        0.2  Class_1\n",
       "4   5        5.0        3.6        1.4        0.2  Class_1"
      ]
     },
     "execution_count": 2,
     "metadata": {},
     "output_type": "execute_result"
    }
   ],
   "source": [
    "df = pd.read_csv(\"dataset_1.csv\")\n",
    "df.head()"
   ]
  },
  {
   "cell_type": "code",
   "execution_count": 3,
   "metadata": {},
   "outputs": [
    {
     "data": {
      "text/html": [
       "<div>\n",
       "<style scoped>\n",
       "    .dataframe tbody tr th:only-of-type {\n",
       "        vertical-align: middle;\n",
       "    }\n",
       "\n",
       "    .dataframe tbody tr th {\n",
       "        vertical-align: top;\n",
       "    }\n",
       "\n",
       "    .dataframe thead th {\n",
       "        text-align: right;\n",
       "    }\n",
       "</style>\n",
       "<table border=\"1\" class=\"dataframe\">\n",
       "  <thead>\n",
       "    <tr style=\"text-align: right;\">\n",
       "      <th></th>\n",
       "      <th>Id</th>\n",
       "      <th>Feature_1</th>\n",
       "      <th>Feature_2</th>\n",
       "      <th>Feature_3</th>\n",
       "      <th>Feature_4</th>\n",
       "    </tr>\n",
       "  </thead>\n",
       "  <tbody>\n",
       "    <tr>\n",
       "      <th>count</th>\n",
       "      <td>150.000000</td>\n",
       "      <td>150.000000</td>\n",
       "      <td>150.000000</td>\n",
       "      <td>150.000000</td>\n",
       "      <td>150.000000</td>\n",
       "    </tr>\n",
       "    <tr>\n",
       "      <th>mean</th>\n",
       "      <td>75.500000</td>\n",
       "      <td>5.843333</td>\n",
       "      <td>3.054000</td>\n",
       "      <td>3.758667</td>\n",
       "      <td>1.198667</td>\n",
       "    </tr>\n",
       "    <tr>\n",
       "      <th>std</th>\n",
       "      <td>43.445368</td>\n",
       "      <td>0.828066</td>\n",
       "      <td>0.433594</td>\n",
       "      <td>1.764420</td>\n",
       "      <td>0.763161</td>\n",
       "    </tr>\n",
       "    <tr>\n",
       "      <th>min</th>\n",
       "      <td>1.000000</td>\n",
       "      <td>4.300000</td>\n",
       "      <td>2.000000</td>\n",
       "      <td>1.000000</td>\n",
       "      <td>0.100000</td>\n",
       "    </tr>\n",
       "    <tr>\n",
       "      <th>25%</th>\n",
       "      <td>38.250000</td>\n",
       "      <td>5.100000</td>\n",
       "      <td>2.800000</td>\n",
       "      <td>1.600000</td>\n",
       "      <td>0.300000</td>\n",
       "    </tr>\n",
       "    <tr>\n",
       "      <th>50%</th>\n",
       "      <td>75.500000</td>\n",
       "      <td>5.800000</td>\n",
       "      <td>3.000000</td>\n",
       "      <td>4.350000</td>\n",
       "      <td>1.300000</td>\n",
       "    </tr>\n",
       "    <tr>\n",
       "      <th>75%</th>\n",
       "      <td>112.750000</td>\n",
       "      <td>6.400000</td>\n",
       "      <td>3.300000</td>\n",
       "      <td>5.100000</td>\n",
       "      <td>1.800000</td>\n",
       "    </tr>\n",
       "    <tr>\n",
       "      <th>max</th>\n",
       "      <td>150.000000</td>\n",
       "      <td>7.900000</td>\n",
       "      <td>4.400000</td>\n",
       "      <td>6.900000</td>\n",
       "      <td>2.500000</td>\n",
       "    </tr>\n",
       "  </tbody>\n",
       "</table>\n",
       "</div>"
      ],
      "text/plain": [
       "               Id   Feature_1   Feature_2   Feature_3   Feature_4\n",
       "count  150.000000  150.000000  150.000000  150.000000  150.000000\n",
       "mean    75.500000    5.843333    3.054000    3.758667    1.198667\n",
       "std     43.445368    0.828066    0.433594    1.764420    0.763161\n",
       "min      1.000000    4.300000    2.000000    1.000000    0.100000\n",
       "25%     38.250000    5.100000    2.800000    1.600000    0.300000\n",
       "50%     75.500000    5.800000    3.000000    4.350000    1.300000\n",
       "75%    112.750000    6.400000    3.300000    5.100000    1.800000\n",
       "max    150.000000    7.900000    4.400000    6.900000    2.500000"
      ]
     },
     "execution_count": 3,
     "metadata": {},
     "output_type": "execute_result"
    }
   ],
   "source": [
    "df.describe()"
   ]
  },
  {
   "cell_type": "code",
   "execution_count": 4,
   "metadata": {},
   "outputs": [
    {
     "name": "stdout",
     "output_type": "stream",
     "text": [
      "<class 'pandas.core.frame.DataFrame'>\n",
      "RangeIndex: 150 entries, 0 to 149\n",
      "Data columns (total 6 columns):\n",
      " #   Column     Non-Null Count  Dtype  \n",
      "---  ------     --------------  -----  \n",
      " 0   Id         150 non-null    int64  \n",
      " 1   Feature_1  150 non-null    float64\n",
      " 2   Feature_2  150 non-null    float64\n",
      " 3   Feature_3  150 non-null    float64\n",
      " 4   Feature_4  150 non-null    float64\n",
      " 5   target     150 non-null    object \n",
      "dtypes: float64(4), int64(1), object(1)\n",
      "memory usage: 7.2+ KB\n"
     ]
    }
   ],
   "source": [
    "df.info()"
   ]
  },
  {
   "cell_type": "markdown",
   "metadata": {},
   "source": [
    "**Finding out unique target values** "
   ]
  },
  {
   "cell_type": "code",
   "execution_count": 5,
   "metadata": {},
   "outputs": [
    {
     "data": {
      "text/plain": [
       "array(['Class_1', 'Class_2', 'Class_3'], dtype=object)"
      ]
     },
     "execution_count": 5,
     "metadata": {},
     "output_type": "execute_result"
    }
   ],
   "source": [
    "df['target'].unique()"
   ]
  },
  {
   "cell_type": "markdown",
   "metadata": {},
   "source": [
    "**Converting the categorical \"target\" variable to numeric by Label Encoding Method**"
   ]
  },
  {
   "cell_type": "code",
   "execution_count": 6,
   "metadata": {},
   "outputs": [
    {
     "data": {
      "text/plain": [
       "array([0, 0, 0, 0, 0, 0, 0, 0, 0, 0, 0, 0, 0, 0, 0, 0, 0, 0, 0, 0, 0, 0,\n",
       "       0, 0, 0, 0, 0, 0, 0, 0, 0, 0, 0, 0, 0, 0, 0, 0, 0, 0, 0, 0, 0, 0,\n",
       "       0, 0, 0, 0, 0, 0, 1, 1, 1, 1, 1, 1, 1, 1, 1, 1, 1, 1, 1, 1, 1, 1,\n",
       "       1, 1, 1, 1, 1, 1, 1, 1, 1, 1, 1, 1, 1, 1, 1, 1, 1, 1, 1, 1, 1, 1,\n",
       "       1, 1, 1, 1, 1, 1, 1, 1, 1, 1, 1, 1, 2, 2, 2, 2, 2, 2, 2, 2, 2, 2,\n",
       "       2, 2, 2, 2, 2, 2, 2, 2, 2, 2, 2, 2, 2, 2, 2, 2, 2, 2, 2, 2, 2, 2,\n",
       "       2, 2, 2, 2, 2, 2, 2, 2, 2, 2, 2, 2, 2, 2, 2, 2, 2, 2])"
      ]
     },
     "execution_count": 6,
     "metadata": {},
     "output_type": "execute_result"
    }
   ],
   "source": [
    "from sklearn.preprocessing import LabelEncoder\n",
    "le = LabelEncoder()\n",
    "label = le.fit_transform(df['target'])\n",
    "label"
   ]
  },
  {
   "cell_type": "code",
   "execution_count": 7,
   "metadata": {},
   "outputs": [
    {
     "data": {
      "text/html": [
       "<div>\n",
       "<style scoped>\n",
       "    .dataframe tbody tr th:only-of-type {\n",
       "        vertical-align: middle;\n",
       "    }\n",
       "\n",
       "    .dataframe tbody tr th {\n",
       "        vertical-align: top;\n",
       "    }\n",
       "\n",
       "    .dataframe thead th {\n",
       "        text-align: right;\n",
       "    }\n",
       "</style>\n",
       "<table border=\"1\" class=\"dataframe\">\n",
       "  <thead>\n",
       "    <tr style=\"text-align: right;\">\n",
       "      <th></th>\n",
       "      <th>Id</th>\n",
       "      <th>Feature_1</th>\n",
       "      <th>Feature_2</th>\n",
       "      <th>Feature_3</th>\n",
       "      <th>Feature_4</th>\n",
       "      <th>target</th>\n",
       "    </tr>\n",
       "  </thead>\n",
       "  <tbody>\n",
       "    <tr>\n",
       "      <th>0</th>\n",
       "      <td>1</td>\n",
       "      <td>5.1</td>\n",
       "      <td>3.5</td>\n",
       "      <td>1.4</td>\n",
       "      <td>0.2</td>\n",
       "      <td>0</td>\n",
       "    </tr>\n",
       "    <tr>\n",
       "      <th>1</th>\n",
       "      <td>2</td>\n",
       "      <td>4.9</td>\n",
       "      <td>3.0</td>\n",
       "      <td>1.4</td>\n",
       "      <td>0.2</td>\n",
       "      <td>0</td>\n",
       "    </tr>\n",
       "    <tr>\n",
       "      <th>2</th>\n",
       "      <td>3</td>\n",
       "      <td>4.7</td>\n",
       "      <td>3.2</td>\n",
       "      <td>1.3</td>\n",
       "      <td>0.2</td>\n",
       "      <td>0</td>\n",
       "    </tr>\n",
       "    <tr>\n",
       "      <th>3</th>\n",
       "      <td>4</td>\n",
       "      <td>4.6</td>\n",
       "      <td>3.1</td>\n",
       "      <td>1.5</td>\n",
       "      <td>0.2</td>\n",
       "      <td>0</td>\n",
       "    </tr>\n",
       "    <tr>\n",
       "      <th>4</th>\n",
       "      <td>5</td>\n",
       "      <td>5.0</td>\n",
       "      <td>3.6</td>\n",
       "      <td>1.4</td>\n",
       "      <td>0.2</td>\n",
       "      <td>0</td>\n",
       "    </tr>\n",
       "    <tr>\n",
       "      <th>...</th>\n",
       "      <td>...</td>\n",
       "      <td>...</td>\n",
       "      <td>...</td>\n",
       "      <td>...</td>\n",
       "      <td>...</td>\n",
       "      <td>...</td>\n",
       "    </tr>\n",
       "    <tr>\n",
       "      <th>145</th>\n",
       "      <td>146</td>\n",
       "      <td>6.7</td>\n",
       "      <td>3.0</td>\n",
       "      <td>5.2</td>\n",
       "      <td>2.3</td>\n",
       "      <td>2</td>\n",
       "    </tr>\n",
       "    <tr>\n",
       "      <th>146</th>\n",
       "      <td>147</td>\n",
       "      <td>6.3</td>\n",
       "      <td>2.5</td>\n",
       "      <td>5.0</td>\n",
       "      <td>1.9</td>\n",
       "      <td>2</td>\n",
       "    </tr>\n",
       "    <tr>\n",
       "      <th>147</th>\n",
       "      <td>148</td>\n",
       "      <td>6.5</td>\n",
       "      <td>3.0</td>\n",
       "      <td>5.2</td>\n",
       "      <td>2.0</td>\n",
       "      <td>2</td>\n",
       "    </tr>\n",
       "    <tr>\n",
       "      <th>148</th>\n",
       "      <td>149</td>\n",
       "      <td>6.2</td>\n",
       "      <td>3.4</td>\n",
       "      <td>5.4</td>\n",
       "      <td>2.3</td>\n",
       "      <td>2</td>\n",
       "    </tr>\n",
       "    <tr>\n",
       "      <th>149</th>\n",
       "      <td>150</td>\n",
       "      <td>5.9</td>\n",
       "      <td>3.0</td>\n",
       "      <td>5.1</td>\n",
       "      <td>1.8</td>\n",
       "      <td>2</td>\n",
       "    </tr>\n",
       "  </tbody>\n",
       "</table>\n",
       "<p>150 rows × 6 columns</p>\n",
       "</div>"
      ],
      "text/plain": [
       "      Id  Feature_1  Feature_2  Feature_3  Feature_4  target\n",
       "0      1        5.1        3.5        1.4        0.2       0\n",
       "1      2        4.9        3.0        1.4        0.2       0\n",
       "2      3        4.7        3.2        1.3        0.2       0\n",
       "3      4        4.6        3.1        1.5        0.2       0\n",
       "4      5        5.0        3.6        1.4        0.2       0\n",
       "..   ...        ...        ...        ...        ...     ...\n",
       "145  146        6.7        3.0        5.2        2.3       2\n",
       "146  147        6.3        2.5        5.0        1.9       2\n",
       "147  148        6.5        3.0        5.2        2.0       2\n",
       "148  149        6.2        3.4        5.4        2.3       2\n",
       "149  150        5.9        3.0        5.1        1.8       2\n",
       "\n",
       "[150 rows x 6 columns]"
      ]
     },
     "execution_count": 7,
     "metadata": {},
     "output_type": "execute_result"
    }
   ],
   "source": [
    "df.drop(\"target\", axis=1, inplace=True) \n",
    "df[\"target\"] = label\n",
    "df"
   ]
  },
  {
   "cell_type": "code",
   "execution_count": 8,
   "metadata": {},
   "outputs": [
    {
     "data": {
      "image/png": "[encoded data removed]",
      "text/plain": [
       "<Figure size 432x288 with 1 Axes>"
      ]
     },
     "metadata": {
      "needs_background": "light"
     },
     "output_type": "display_data"
    }
   ],
   "source": [
    "ax = sns.countplot(x=\"target\", data=df)"
   ]
  },
  {
   "cell_type": "code",
   "execution_count": 9,
   "metadata": {},
   "outputs": [
    {
     "data": {
      "text/plain": [
       "array([0, 1, 2])"
      ]
     },
     "execution_count": 9,
     "metadata": {},
     "output_type": "execute_result"
    }
   ],
   "source": [
    "df['target'].unique()"
   ]
  },
  {
   "cell_type": "markdown",
   "metadata": {},
   "source": [
    "## Performing EDA"
   ]
  },
  {
   "cell_type": "markdown",
   "metadata": {},
   "source": [
    "**Here I have used sweetviz library for EDA that generates beautiful & high-density visualizations.**"
   ]
  },
  {
   "cell_type": "markdown",
   "metadata": {},
   "source": [
    "*The main purpose of EDA is to help look at data before making any assumptions. It can help identify obvious errors, as well as better understand patterns within the data, detect outliers or anomalous events, find interesting relations among the variables.**\n",
    "\n",
    "*SweetViz Library is an open-source Python library & has a function named Analyze() which analyzes the whole dataset and provides a detailed report with visualization.**\n",
    "\n",
    "*Output is a fully self-contained HTML application. The system is built around quickly visualizing target values and comparing datasets. Its goal is to help quick analysis of target characteristics, training vs testing data, and other such data characterization tasks.**"
   ]
  },
  {
   "cell_type": "code",
   "execution_count": 10,
   "metadata": {},
   "outputs": [
    {
     "data": {
      "application/vnd.jupyter.widget-view+json": {
       "model_id": "92dfe8e20e1c453287e3dbe432ab4654",
       "version_major": 2,
       "version_minor": 0
      },
      "text/plain": [
       "                                             |                                             | [  0%]   00:00 ->…"
      ]
     },
     "metadata": {},
     "output_type": "display_data"
    },
    {
     "name": "stdout",
     "output_type": "stream",
     "text": [
      "Report SWEETVIZ_REPORT.html was generated! NOTEBOOK/COLAB USERS: the web browser MAY not pop up, regardless, the report IS saved in your notebook/colab files.\n"
     ]
    }
   ],
   "source": [
    "##(!pip install sweetviz)\n",
    "import sweetviz as sv\n",
    "\n",
    "my_report = sv.analyze(df)\n",
    "my_report.show_html()"
   ]
  },
  {
   "cell_type": "markdown",
   "metadata": {},
   "source": [
    "**Dropping the 'Feature_4' as it is highly correlated with other features**"
   ]
  },
  {
   "cell_type": "code",
   "execution_count": 11,
   "metadata": {},
   "outputs": [],
   "source": [
    "df1=df.drop(['Feature_4','Id'], axis = 1)"
   ]
  },
  {
   "cell_type": "code",
   "execution_count": 12,
   "metadata": {},
   "outputs": [
    {
     "data": {
      "application/vnd.jupyter.widget-view+json": {
       "model_id": "87f6a50a1c474abc947ec7cc501d9192",
       "version_major": 2,
       "version_minor": 0
      },
      "text/plain": [
       "                                             |                                             | [  0%]   00:00 ->…"
      ]
     },
     "metadata": {},
     "output_type": "display_data"
    },
    {
     "name": "stdout",
     "output_type": "stream",
     "text": [
      "Report SWEETVIZ_REPORT.html was generated! NOTEBOOK/COLAB USERS: the web browser MAY not pop up, regardless, the report IS saved in your notebook/colab files.\n"
     ]
    }
   ],
   "source": [
    "import sweetviz as sv\n",
    "\n",
    "my_report = sv.analyze(df1)\n",
    "my_report.show_html()"
   ]
  },
  {
   "cell_type": "code",
   "execution_count": 13,
   "metadata": {},
   "outputs": [
    {
     "data": {
      "text/plain": [
       "(150, 4)"
      ]
     },
     "execution_count": 13,
     "metadata": {},
     "output_type": "execute_result"
    }
   ],
   "source": [
    "df1.shape"
   ]
  },
  {
   "cell_type": "markdown",
   "metadata": {},
   "source": [
    "**Checking for null values**"
   ]
  },
  {
   "cell_type": "code",
   "execution_count": 14,
   "metadata": {},
   "outputs": [
    {
     "data": {
      "text/plain": [
       "Feature_1    0\n",
       "Feature_2    0\n",
       "Feature_3    0\n",
       "target       0\n",
       "dtype: int64"
      ]
     },
     "execution_count": 14,
     "metadata": {},
     "output_type": "execute_result"
    }
   ],
   "source": [
    "#no null values\n",
    "df1.isna().sum()"
   ]
  },
  {
   "cell_type": "markdown",
   "metadata": {},
   "source": [
    "**Creating two dataframes for dependent and independent columns each**"
   ]
  },
  {
   "cell_type": "code",
   "execution_count": 15,
   "metadata": {},
   "outputs": [],
   "source": [
    "#independent columns\n",
    "x=df1[['Feature_1','Feature_2','Feature_3']].values"
   ]
  },
  {
   "cell_type": "code",
   "execution_count": 16,
   "metadata": {},
   "outputs": [
    {
     "data": {
      "text/plain": [
       "array([[5.1, 3.5, 1.4],\n",
       "       [4.9, 3. , 1.4],\n",
       "       [4.7, 3.2, 1.3],\n",
       "       [4.6, 3.1, 1.5],\n",
       "       [5. , 3.6, 1.4],\n",
       "       [5.4, 3.9, 1.7],\n",
       "       [4.6, 3.4, 1.4],\n",
       "       [5. , 3.4, 1.5],\n",
       "       [4.4, 2.9, 1.4],\n",
       "       [4.9, 3.1, 1.5],\n",
       "       [5.4, 3.7, 1.5],\n",
       "       [4.8, 3.4, 1.6],\n",
       "       [4.8, 3. , 1.4],\n",
       "       [4.3, 3. , 1.1],\n",
       "       [5.8, 4. , 1.2],\n",
       "       [5.7, 4.4, 1.5],\n",
       "       [5.4, 3.9, 1.3],\n",
       "       [5.1, 3.5, 1.4],\n",
       "       [5.7, 3.8, 1.7],\n",
       "       [5.1, 3.8, 1.5],\n",
       "       [5.4, 3.4, 1.7],\n",
       "       [5.1, 3.7, 1.5],\n",
       "       [4.6, 3.6, 1. ],\n",
       "       [5.1, 3.3, 1.7],\n",
       "       [4.8, 3.4, 1.9],\n",
       "       [5. , 3. , 1.6],\n",
       "       [5. , 3.4, 1.6],\n",
       "       [5.2, 3.5, 1.5],\n",
       "       [5.2, 3.4, 1.4],\n",
       "       [4.7, 3.2, 1.6],\n",
       "       [4.8, 3.1, 1.6],\n",
       "       [5.4, 3.4, 1.5],\n",
       "       [5.2, 4.1, 1.5],\n",
       "       [5.5, 4.2, 1.4],\n",
       "       [4.9, 3.1, 1.5],\n",
       "       [5. , 3.2, 1.2],\n",
       "       [5.5, 3.5, 1.3],\n",
       "       [4.9, 3.1, 1.5],\n",
       "       [4.4, 3. , 1.3],\n",
       "       [5.1, 3.4, 1.5],\n",
       "       [5. , 3.5, 1.3],\n",
       "       [4.5, 2.3, 1.3],\n",
       "       [4.4, 3.2, 1.3],\n",
       "       [5. , 3.5, 1.6],\n",
       "       [5.1, 3.8, 1.9],\n",
       "       [4.8, 3. , 1.4],\n",
       "       [5.1, 3.8, 1.6],\n",
       "       [4.6, 3.2, 1.4],\n",
       "       [5.3, 3.7, 1.5],\n",
       "       [5. , 3.3, 1.4],\n",
       "       [7. , 3.2, 4.7],\n",
       "       [6.4, 3.2, 4.5],\n",
       "       [6.9, 3.1, 4.9],\n",
       "       [5.5, 2.3, 4. ],\n",
       "       [6.5, 2.8, 4.6],\n",
       "       [5.7, 2.8, 4.5],\n",
       "       [6.3, 3.3, 4.7],\n",
       "       [4.9, 2.4, 3.3],\n",
       "       [6.6, 2.9, 4.6],\n",
       "       [5.2, 2.7, 3.9],\n",
       "       [5. , 2. , 3.5],\n",
       "       [5.9, 3. , 4.2],\n",
       "       [6. , 2.2, 4. ],\n",
       "       [6.1, 2.9, 4.7],\n",
       "       [5.6, 2.9, 3.6],\n",
       "       [6.7, 3.1, 4.4],\n",
       "       [5.6, 3. , 4.5],\n",
       "       [5.8, 2.7, 4.1],\n",
       "       [6.2, 2.2, 4.5],\n",
       "       [5.6, 2.5, 3.9],\n",
       "       [5.9, 3.2, 4.8],\n",
       "       [6.1, 2.8, 4. ],\n",
       "       [6.3, 2.5, 4.9],\n",
       "       [6.1, 2.8, 4.7],\n",
       "       [6.4, 2.9, 4.3],\n",
       "       [6.6, 3. , 4.4],\n",
       "       [6.8, 2.8, 4.8],\n",
       "       [6.7, 3. , 5. ],\n",
       "       [6. , 2.9, 4.5],\n",
       "       [5.7, 2.6, 3.5],\n",
       "       [5.5, 2.4, 3.8],\n",
       "       [5.5, 2.4, 3.7],\n",
       "       [5.8, 2.7, 3.9],\n",
       "       [6. , 2.7, 5.1],\n",
       "       [5.4, 3. , 4.5],\n",
       "       [6. , 3.4, 4.5],\n",
       "       [6.7, 3.1, 4.7],\n",
       "       [6.3, 2.3, 4.4],\n",
       "       [5.6, 3. , 4.1],\n",
       "       [5.5, 2.5, 4. ],\n",
       "       [5.5, 2.6, 4.4],\n",
       "       [6.1, 3. , 4.6],\n",
       "       [5.8, 2.6, 4. ],\n",
       "       [5. , 2.3, 3.3],\n",
       "       [5.6, 2.7, 4.2],\n",
       "       [5.7, 3. , 4.2],\n",
       "       [5.7, 2.9, 4.2],\n",
       "       [6.2, 2.9, 4.3],\n",
       "       [5.1, 2.5, 3. ],\n",
       "       [5.7, 2.8, 4.1],\n",
       "       [6.3, 3.3, 6. ],\n",
       "       [5.8, 2.7, 5.1],\n",
       "       [7.1, 3. , 5.9],\n",
       "       [6.3, 2.9, 5.6],\n",
       "       [6.5, 3. , 5.8],\n",
       "       [7.6, 3. , 6.6],\n",
       "       [4.9, 2.5, 4.5],\n",
       "       [7.3, 2.9, 6.3],\n",
       "       [6.7, 2.5, 5.8],\n",
       "       [7.2, 3.6, 6.1],\n",
       "       [6.5, 3.2, 5.1],\n",
       "       [6.4, 2.7, 5.3],\n",
       "       [6.8, 3. , 5.5],\n",
       "       [5.7, 2.5, 5. ],\n",
       "       [5.8, 2.8, 5.1],\n",
       "       [6.4, 3.2, 5.3],\n",
       "       [6.5, 3. , 5.5],\n",
       "       [7.7, 3.8, 6.7],\n",
       "       [7.7, 2.6, 6.9],\n",
       "       [6. , 2.2, 5. ],\n",
       "       [6.9, 3.2, 5.7],\n",
       "       [5.6, 2.8, 4.9],\n",
       "       [7.7, 2.8, 6.7],\n",
       "       [6.3, 2.7, 4.9],\n",
       "       [6.7, 3.3, 5.7],\n",
       "       [7.2, 3.2, 6. ],\n",
       "       [6.2, 2.8, 4.8],\n",
       "       [6.1, 3. , 4.9],\n",
       "       [6.4, 2.8, 5.6],\n",
       "       [7.2, 3. , 5.8],\n",
       "       [7.4, 2.8, 6.1],\n",
       "       [7.9, 3.8, 6.4],\n",
       "       [6.4, 2.8, 5.6],\n",
       "       [6.3, 2.8, 5.1],\n",
       "       [6.1, 2.6, 5.6],\n",
       "       [7.7, 3. , 6.1],\n",
       "       [6.3, 3.4, 5.6],\n",
       "       [6.4, 3.1, 5.5],\n",
       "       [6. , 3. , 4.8],\n",
       "       [6.9, 3.1, 5.4],\n",
       "       [6.7, 3.1, 5.6],\n",
       "       [6.9, 3.1, 5.1],\n",
       "       [5.8, 2.7, 5.1],\n",
       "       [6.8, 3.2, 5.9],\n",
       "       [6.7, 3.3, 5.7],\n",
       "       [6.7, 3. , 5.2],\n",
       "       [6.3, 2.5, 5. ],\n",
       "       [6.5, 3. , 5.2],\n",
       "       [6.2, 3.4, 5.4],\n",
       "       [5.9, 3. , 5.1]])"
      ]
     },
     "execution_count": 16,
     "metadata": {},
     "output_type": "execute_result"
    }
   ],
   "source": [
    "x"
   ]
  },
  {
   "cell_type": "code",
   "execution_count": 17,
   "metadata": {},
   "outputs": [],
   "source": [
    "#dependent column\n",
    "y=df1[['target']]"
   ]
  },
  {
   "cell_type": "code",
   "execution_count": 18,
   "metadata": {},
   "outputs": [
    {
     "data": {
      "text/html": [
       "<div>\n",
       "<style scoped>\n",
       "    .dataframe tbody tr th:only-of-type {\n",
       "        vertical-align: middle;\n",
       "    }\n",
       "\n",
       "    .dataframe tbody tr th {\n",
       "        vertical-align: top;\n",
       "    }\n",
       "\n",
       "    .dataframe thead th {\n",
       "        text-align: right;\n",
       "    }\n",
       "</style>\n",
       "<table border=\"1\" class=\"dataframe\">\n",
       "  <thead>\n",
       "    <tr style=\"text-align: right;\">\n",
       "      <th></th>\n",
       "      <th>target</th>\n",
       "    </tr>\n",
       "  </thead>\n",
       "  <tbody>\n",
       "    <tr>\n",
       "      <th>0</th>\n",
       "      <td>0</td>\n",
       "    </tr>\n",
       "    <tr>\n",
       "      <th>1</th>\n",
       "      <td>0</td>\n",
       "    </tr>\n",
       "    <tr>\n",
       "      <th>2</th>\n",
       "      <td>0</td>\n",
       "    </tr>\n",
       "    <tr>\n",
       "      <th>3</th>\n",
       "      <td>0</td>\n",
       "    </tr>\n",
       "    <tr>\n",
       "      <th>4</th>\n",
       "      <td>0</td>\n",
       "    </tr>\n",
       "    <tr>\n",
       "      <th>...</th>\n",
       "      <td>...</td>\n",
       "    </tr>\n",
       "    <tr>\n",
       "      <th>145</th>\n",
       "      <td>2</td>\n",
       "    </tr>\n",
       "    <tr>\n",
       "      <th>146</th>\n",
       "      <td>2</td>\n",
       "    </tr>\n",
       "    <tr>\n",
       "      <th>147</th>\n",
       "      <td>2</td>\n",
       "    </tr>\n",
       "    <tr>\n",
       "      <th>148</th>\n",
       "      <td>2</td>\n",
       "    </tr>\n",
       "    <tr>\n",
       "      <th>149</th>\n",
       "      <td>2</td>\n",
       "    </tr>\n",
       "  </tbody>\n",
       "</table>\n",
       "<p>150 rows × 1 columns</p>\n",
       "</div>"
      ],
      "text/plain": [
       "     target\n",
       "0         0\n",
       "1         0\n",
       "2         0\n",
       "3         0\n",
       "4         0\n",
       "..      ...\n",
       "145       2\n",
       "146       2\n",
       "147       2\n",
       "148       2\n",
       "149       2\n",
       "\n",
       "[150 rows x 1 columns]"
      ]
     },
     "execution_count": 18,
     "metadata": {},
     "output_type": "execute_result"
    }
   ],
   "source": [
    "y"
   ]
  },
  {
   "cell_type": "markdown",
   "metadata": {},
   "source": [
    "### Splitting training and test data\n"
   ]
  },
  {
   "cell_type": "code",
   "execution_count": 19,
   "metadata": {},
   "outputs": [],
   "source": [
    "from sklearn.model_selection import train_test_split\n",
    "x_train,x_test,y_train,y_test = train_test_split(x,y,test_size=0.2,random_state=0)"
   ]
  },
  {
   "cell_type": "code",
   "execution_count": 20,
   "metadata": {},
   "outputs": [
    {
     "data": {
      "text/plain": [
       "array([[6.4, 3.1, 5.5],\n",
       "       [5.4, 3. , 4.5],\n",
       "       [5.2, 3.5, 1.5],\n",
       "       [6.1, 3. , 4.9],\n",
       "       [6.4, 2.8, 5.6],\n",
       "       [5.2, 2.7, 3.9],\n",
       "       [5.7, 3.8, 1.7],\n",
       "       [6. , 2.7, 5.1],\n",
       "       [5.9, 3. , 4.2],\n",
       "       [5.8, 2.6, 4. ],\n",
       "       [6.8, 3. , 5.5],\n",
       "       [4.7, 3.2, 1.3],\n",
       "       [6.9, 3.1, 5.1],\n",
       "       [5. , 3.5, 1.6],\n",
       "       [5.4, 3.7, 1.5],\n",
       "       [5. , 2. , 3.5],\n",
       "       [6.5, 3. , 5.5],\n",
       "       [6.7, 3.3, 5.7],\n",
       "       [6. , 2.2, 5. ],\n",
       "       [6.7, 2.5, 5.8],\n",
       "       [5.6, 2.5, 3.9],\n",
       "       [7.7, 3. , 6.1],\n",
       "       [6.3, 3.3, 4.7],\n",
       "       [5.5, 2.4, 3.8],\n",
       "       [6.3, 2.7, 4.9],\n",
       "       [6.3, 2.8, 5.1],\n",
       "       [4.9, 2.5, 4.5],\n",
       "       [6.3, 2.5, 5. ],\n",
       "       [7. , 3.2, 4.7],\n",
       "       [6.5, 3. , 5.2],\n",
       "       [6. , 3.4, 4.5],\n",
       "       [4.8, 3.1, 1.6],\n",
       "       [5.8, 2.7, 5.1],\n",
       "       [5.6, 2.7, 4.2],\n",
       "       [5.6, 2.9, 3.6],\n",
       "       [5.5, 2.5, 4. ],\n",
       "       [6.1, 3. , 4.6],\n",
       "       [7.2, 3.2, 6. ],\n",
       "       [5.3, 3.7, 1.5],\n",
       "       [4.3, 3. , 1.1],\n",
       "       [6.4, 2.7, 5.3],\n",
       "       [5.7, 3. , 4.2],\n",
       "       [5.4, 3.4, 1.7],\n",
       "       [5.7, 4.4, 1.5],\n",
       "       [6.9, 3.1, 4.9],\n",
       "       [4.6, 3.1, 1.5],\n",
       "       [5.9, 3. , 5.1],\n",
       "       [5.1, 2.5, 3. ],\n",
       "       [4.6, 3.4, 1.4],\n",
       "       [6.2, 2.2, 4.5],\n",
       "       [7.2, 3.6, 6.1],\n",
       "       [5.7, 2.9, 4.2],\n",
       "       [4.8, 3. , 1.4],\n",
       "       [7.1, 3. , 5.9],\n",
       "       [6.9, 3.2, 5.7],\n",
       "       [6.5, 3. , 5.8],\n",
       "       [6.4, 2.8, 5.6],\n",
       "       [5.1, 3.8, 1.6],\n",
       "       [4.8, 3.4, 1.6],\n",
       "       [6.5, 3.2, 5.1],\n",
       "       [6.7, 3.3, 5.7],\n",
       "       [4.5, 2.3, 1.3],\n",
       "       [6.2, 3.4, 5.4],\n",
       "       [4.9, 3. , 1.4],\n",
       "       [5.7, 2.5, 5. ],\n",
       "       [6.9, 3.1, 5.4],\n",
       "       [4.4, 3.2, 1.3],\n",
       "       [5. , 3.6, 1.4],\n",
       "       [7.2, 3. , 5.8],\n",
       "       [5.1, 3.5, 1.4],\n",
       "       [4.4, 3. , 1.3],\n",
       "       [5.4, 3.9, 1.7],\n",
       "       [5.5, 2.3, 4. ],\n",
       "       [6.8, 3.2, 5.9],\n",
       "       [7.6, 3. , 6.6],\n",
       "       [5.1, 3.5, 1.4],\n",
       "       [4.9, 3.1, 1.5],\n",
       "       [5.2, 3.4, 1.4],\n",
       "       [5.7, 2.8, 4.5],\n",
       "       [6.6, 3. , 4.4],\n",
       "       [5. , 3.2, 1.2],\n",
       "       [5.1, 3.3, 1.7],\n",
       "       [6.4, 2.9, 4.3],\n",
       "       [5.4, 3.4, 1.5],\n",
       "       [7.7, 2.6, 6.9],\n",
       "       [4.9, 2.4, 3.3],\n",
       "       [7.9, 3.8, 6.4],\n",
       "       [6.7, 3.1, 4.4],\n",
       "       [5.2, 4.1, 1.5],\n",
       "       [6. , 3. , 4.8],\n",
       "       [5.8, 4. , 1.2],\n",
       "       [7.7, 2.8, 6.7],\n",
       "       [5.1, 3.8, 1.5],\n",
       "       [4.7, 3.2, 1.6],\n",
       "       [7.4, 2.8, 6.1],\n",
       "       [5. , 3.3, 1.4],\n",
       "       [6.3, 3.4, 5.6],\n",
       "       [5.7, 2.8, 4.1],\n",
       "       [5.8, 2.7, 3.9],\n",
       "       [5.7, 2.6, 3.5],\n",
       "       [6.4, 3.2, 5.3],\n",
       "       [6.7, 3. , 5.2],\n",
       "       [6.3, 2.5, 4.9],\n",
       "       [6.7, 3. , 5. ],\n",
       "       [5. , 3. , 1.6],\n",
       "       [5.5, 2.4, 3.7],\n",
       "       [6.7, 3.1, 5.6],\n",
       "       [5.8, 2.7, 5.1],\n",
       "       [5.1, 3.4, 1.5],\n",
       "       [6.6, 2.9, 4.6],\n",
       "       [5.6, 3. , 4.1],\n",
       "       [5.9, 3.2, 4.8],\n",
       "       [6.3, 2.3, 4.4],\n",
       "       [5.5, 3.5, 1.3],\n",
       "       [5.1, 3.7, 1.5],\n",
       "       [4.9, 3.1, 1.5],\n",
       "       [6.3, 2.9, 5.6],\n",
       "       [5.8, 2.7, 4.1],\n",
       "       [7.7, 3.8, 6.7],\n",
       "       [4.6, 3.2, 1.4]])"
      ]
     },
     "execution_count": 20,
     "metadata": {},
     "output_type": "execute_result"
    }
   ],
   "source": [
    "x_train"
   ]
  },
  {
   "cell_type": "code",
   "execution_count": 21,
   "metadata": {},
   "outputs": [
    {
     "data": {
      "text/plain": [
       "array([[5.8, 2.8, 5.1],\n",
       "       [6. , 2.2, 4. ],\n",
       "       [5.5, 4.2, 1.4],\n",
       "       [7.3, 2.9, 6.3],\n",
       "       [5. , 3.4, 1.5],\n",
       "       [6.3, 3.3, 6. ],\n",
       "       [5. , 3.5, 1.3],\n",
       "       [6.7, 3.1, 4.7],\n",
       "       [6.8, 2.8, 4.8],\n",
       "       [6.1, 2.8, 4. ],\n",
       "       [6.1, 2.6, 5.6],\n",
       "       [6.4, 3.2, 4.5],\n",
       "       [6.1, 2.8, 4.7],\n",
       "       [6.5, 2.8, 4.6],\n",
       "       [6.1, 2.9, 4.7],\n",
       "       [4.9, 3.1, 1.5],\n",
       "       [6. , 2.9, 4.5],\n",
       "       [5.5, 2.6, 4.4],\n",
       "       [4.8, 3. , 1.4],\n",
       "       [5.4, 3.9, 1.3],\n",
       "       [5.6, 2.8, 4.9],\n",
       "       [5.6, 3. , 4.5],\n",
       "       [4.8, 3.4, 1.9],\n",
       "       [4.4, 2.9, 1.4],\n",
       "       [6.2, 2.8, 4.8],\n",
       "       [4.6, 3.6, 1. ],\n",
       "       [5.1, 3.8, 1.9],\n",
       "       [6.2, 2.9, 4.3],\n",
       "       [5. , 2.3, 3.3],\n",
       "       [5. , 3.4, 1.6]])"
      ]
     },
     "execution_count": 21,
     "metadata": {},
     "output_type": "execute_result"
    }
   ],
   "source": [
    "x_test"
   ]
  },
  {
   "cell_type": "code",
   "execution_count": 22,
   "metadata": {},
   "outputs": [
    {
     "data": {
      "text/html": [
       "<div>\n",
       "<style scoped>\n",
       "    .dataframe tbody tr th:only-of-type {\n",
       "        vertical-align: middle;\n",
       "    }\n",
       "\n",
       "    .dataframe tbody tr th {\n",
       "        vertical-align: top;\n",
       "    }\n",
       "\n",
       "    .dataframe thead th {\n",
       "        text-align: right;\n",
       "    }\n",
       "</style>\n",
       "<table border=\"1\" class=\"dataframe\">\n",
       "  <thead>\n",
       "    <tr style=\"text-align: right;\">\n",
       "      <th></th>\n",
       "      <th>target</th>\n",
       "    </tr>\n",
       "  </thead>\n",
       "  <tbody>\n",
       "    <tr>\n",
       "      <th>137</th>\n",
       "      <td>2</td>\n",
       "    </tr>\n",
       "    <tr>\n",
       "      <th>84</th>\n",
       "      <td>1</td>\n",
       "    </tr>\n",
       "    <tr>\n",
       "      <th>27</th>\n",
       "      <td>0</td>\n",
       "    </tr>\n",
       "    <tr>\n",
       "      <th>127</th>\n",
       "      <td>2</td>\n",
       "    </tr>\n",
       "    <tr>\n",
       "      <th>132</th>\n",
       "      <td>2</td>\n",
       "    </tr>\n",
       "    <tr>\n",
       "      <th>...</th>\n",
       "      <td>...</td>\n",
       "    </tr>\n",
       "    <tr>\n",
       "      <th>9</th>\n",
       "      <td>0</td>\n",
       "    </tr>\n",
       "    <tr>\n",
       "      <th>103</th>\n",
       "      <td>2</td>\n",
       "    </tr>\n",
       "    <tr>\n",
       "      <th>67</th>\n",
       "      <td>1</td>\n",
       "    </tr>\n",
       "    <tr>\n",
       "      <th>117</th>\n",
       "      <td>2</td>\n",
       "    </tr>\n",
       "    <tr>\n",
       "      <th>47</th>\n",
       "      <td>0</td>\n",
       "    </tr>\n",
       "  </tbody>\n",
       "</table>\n",
       "<p>120 rows × 1 columns</p>\n",
       "</div>"
      ],
      "text/plain": [
       "     target\n",
       "137       2\n",
       "84        1\n",
       "27        0\n",
       "127       2\n",
       "132       2\n",
       "..      ...\n",
       "9         0\n",
       "103       2\n",
       "67        1\n",
       "117       2\n",
       "47        0\n",
       "\n",
       "[120 rows x 1 columns]"
      ]
     },
     "execution_count": 22,
     "metadata": {},
     "output_type": "execute_result"
    }
   ],
   "source": [
    "y_train"
   ]
  },
  {
   "cell_type": "code",
   "execution_count": 23,
   "metadata": {},
   "outputs": [
    {
     "data": {
      "text/html": [
       "<div>\n",
       "<style scoped>\n",
       "    .dataframe tbody tr th:only-of-type {\n",
       "        vertical-align: middle;\n",
       "    }\n",
       "\n",
       "    .dataframe tbody tr th {\n",
       "        vertical-align: top;\n",
       "    }\n",
       "\n",
       "    .dataframe thead th {\n",
       "        text-align: right;\n",
       "    }\n",
       "</style>\n",
       "<table border=\"1\" class=\"dataframe\">\n",
       "  <thead>\n",
       "    <tr style=\"text-align: right;\">\n",
       "      <th></th>\n",
       "      <th>target</th>\n",
       "    </tr>\n",
       "  </thead>\n",
       "  <tbody>\n",
       "    <tr>\n",
       "      <th>114</th>\n",
       "      <td>2</td>\n",
       "    </tr>\n",
       "    <tr>\n",
       "      <th>62</th>\n",
       "      <td>1</td>\n",
       "    </tr>\n",
       "    <tr>\n",
       "      <th>33</th>\n",
       "      <td>0</td>\n",
       "    </tr>\n",
       "    <tr>\n",
       "      <th>107</th>\n",
       "      <td>2</td>\n",
       "    </tr>\n",
       "    <tr>\n",
       "      <th>7</th>\n",
       "      <td>0</td>\n",
       "    </tr>\n",
       "    <tr>\n",
       "      <th>100</th>\n",
       "      <td>2</td>\n",
       "    </tr>\n",
       "    <tr>\n",
       "      <th>40</th>\n",
       "      <td>0</td>\n",
       "    </tr>\n",
       "    <tr>\n",
       "      <th>86</th>\n",
       "      <td>1</td>\n",
       "    </tr>\n",
       "    <tr>\n",
       "      <th>76</th>\n",
       "      <td>1</td>\n",
       "    </tr>\n",
       "    <tr>\n",
       "      <th>71</th>\n",
       "      <td>1</td>\n",
       "    </tr>\n",
       "    <tr>\n",
       "      <th>134</th>\n",
       "      <td>2</td>\n",
       "    </tr>\n",
       "    <tr>\n",
       "      <th>51</th>\n",
       "      <td>1</td>\n",
       "    </tr>\n",
       "    <tr>\n",
       "      <th>73</th>\n",
       "      <td>1</td>\n",
       "    </tr>\n",
       "    <tr>\n",
       "      <th>54</th>\n",
       "      <td>1</td>\n",
       "    </tr>\n",
       "    <tr>\n",
       "      <th>63</th>\n",
       "      <td>1</td>\n",
       "    </tr>\n",
       "    <tr>\n",
       "      <th>37</th>\n",
       "      <td>0</td>\n",
       "    </tr>\n",
       "    <tr>\n",
       "      <th>78</th>\n",
       "      <td>1</td>\n",
       "    </tr>\n",
       "    <tr>\n",
       "      <th>90</th>\n",
       "      <td>1</td>\n",
       "    </tr>\n",
       "    <tr>\n",
       "      <th>45</th>\n",
       "      <td>0</td>\n",
       "    </tr>\n",
       "    <tr>\n",
       "      <th>16</th>\n",
       "      <td>0</td>\n",
       "    </tr>\n",
       "    <tr>\n",
       "      <th>121</th>\n",
       "      <td>2</td>\n",
       "    </tr>\n",
       "    <tr>\n",
       "      <th>66</th>\n",
       "      <td>1</td>\n",
       "    </tr>\n",
       "    <tr>\n",
       "      <th>24</th>\n",
       "      <td>0</td>\n",
       "    </tr>\n",
       "    <tr>\n",
       "      <th>8</th>\n",
       "      <td>0</td>\n",
       "    </tr>\n",
       "    <tr>\n",
       "      <th>126</th>\n",
       "      <td>2</td>\n",
       "    </tr>\n",
       "    <tr>\n",
       "      <th>22</th>\n",
       "      <td>0</td>\n",
       "    </tr>\n",
       "    <tr>\n",
       "      <th>44</th>\n",
       "      <td>0</td>\n",
       "    </tr>\n",
       "    <tr>\n",
       "      <th>97</th>\n",
       "      <td>1</td>\n",
       "    </tr>\n",
       "    <tr>\n",
       "      <th>93</th>\n",
       "      <td>1</td>\n",
       "    </tr>\n",
       "    <tr>\n",
       "      <th>26</th>\n",
       "      <td>0</td>\n",
       "    </tr>\n",
       "  </tbody>\n",
       "</table>\n",
       "</div>"
      ],
      "text/plain": [
       "     target\n",
       "114       2\n",
       "62        1\n",
       "33        0\n",
       "107       2\n",
       "7         0\n",
       "100       2\n",
       "40        0\n",
       "86        1\n",
       "76        1\n",
       "71        1\n",
       "134       2\n",
       "51        1\n",
       "73        1\n",
       "54        1\n",
       "63        1\n",
       "37        0\n",
       "78        1\n",
       "90        1\n",
       "45        0\n",
       "16        0\n",
       "121       2\n",
       "66        1\n",
       "24        0\n",
       "8         0\n",
       "126       2\n",
       "22        0\n",
       "44        0\n",
       "97        1\n",
       "93        1\n",
       "26        0"
      ]
     },
     "execution_count": 23,
     "metadata": {},
     "output_type": "execute_result"
    }
   ],
   "source": [
    "y_test"
   ]
  },
  {
   "cell_type": "markdown",
   "metadata": {},
   "source": [
    "### Feature Scaling"
   ]
  },
  {
   "cell_type": "code",
   "execution_count": 24,
   "metadata": {},
   "outputs": [],
   "source": [
    "from sklearn.preprocessing import StandardScaler\n",
    "sc_x = StandardScaler()\n",
    "x_train = sc_x.fit_transform(x_train)\n",
    "x_test = sc_x.fit_transform(x_test)"
   ]
  },
  {
   "cell_type": "code",
   "execution_count": 25,
   "metadata": {},
   "outputs": [
    {
     "data": {
      "text/plain": [
       "array([[ 0.61303014,  0.10850105,  0.94751783],\n",
       "       [-0.56776627, -0.12400121,  0.38491447],\n",
       "       [-0.80392556,  1.03851009, -1.30289562],\n",
       "       [ 0.25879121, -0.12400121,  0.60995581],\n",
       "       [ 0.61303014, -0.58900572,  1.00377816],\n",
       "       [-0.80392556, -0.82150798,  0.04735245],\n",
       "       [-0.21352735,  1.73601687, -1.19037495],\n",
       "       [ 0.14071157, -0.82150798,  0.72247648],\n",
       "       [ 0.02263193, -0.12400121,  0.21613346],\n",
       "       [-0.09544771, -1.05401024,  0.10361279],\n",
       "       [ 1.0853487 , -0.12400121,  0.94751783],\n",
       "       [-1.39432376,  0.34100331, -1.41541629],\n",
       "       [ 1.20342834,  0.10850105,  0.72247648],\n",
       "       [-1.04008484,  1.03851009, -1.24663528],\n",
       "       [-0.56776627,  1.50351461, -1.30289562],\n",
       "       [-1.04008484, -2.4490238 , -0.1776889 ],\n",
       "       [ 0.73110978, -0.12400121,  0.94751783],\n",
       "       [ 0.96726906,  0.57350557,  1.0600385 ],\n",
       "       [ 0.14071157, -1.98401928,  0.66621615],\n",
       "       [ 0.96726906, -1.2865125 ,  1.11629884],\n",
       "       [-0.33160699, -1.2865125 ,  0.04735245],\n",
       "       [ 2.14806547, -0.12400121,  1.28507985],\n",
       "       [ 0.49495049,  0.57350557,  0.49743514],\n",
       "       [-0.44968663, -1.51901476, -0.00890789],\n",
       "       [ 0.49495049, -0.82150798,  0.60995581],\n",
       "       [ 0.49495049, -0.58900572,  0.72247648],\n",
       "       [-1.15816448, -1.2865125 ,  0.38491447],\n",
       "       [ 0.49495049, -1.2865125 ,  0.66621615],\n",
       "       [ 1.32150798,  0.34100331,  0.49743514],\n",
       "       [ 0.73110978, -0.12400121,  0.77873682],\n",
       "       [ 0.14071157,  0.80600783,  0.38491447],\n",
       "       [-1.27624412,  0.10850105, -1.24663528],\n",
       "       [-0.09544771, -0.82150798,  0.72247648],\n",
       "       [-0.33160699, -0.82150798,  0.21613346],\n",
       "       [-0.33160699, -0.35650346, -0.12142856],\n",
       "       [-0.44968663, -1.2865125 ,  0.10361279],\n",
       "       [ 0.25879121, -0.12400121,  0.4411748 ],\n",
       "       [ 1.55766726,  0.34100331,  1.22881951],\n",
       "       [-0.68584591,  1.50351461, -1.30289562],\n",
       "       [-1.86664232, -0.12400121, -1.52793696],\n",
       "       [ 0.61303014, -0.82150798,  0.83499716],\n",
       "       [-0.21352735, -0.12400121,  0.21613346],\n",
       "       [-0.56776627,  0.80600783, -1.19037495],\n",
       "       [-0.21352735,  3.13103043, -1.30289562],\n",
       "       [ 1.20342834,  0.10850105,  0.60995581],\n",
       "       [-1.5124034 ,  0.10850105, -1.30289562],\n",
       "       [ 0.02263193, -0.12400121,  0.72247648],\n",
       "       [-0.9220052 , -1.2865125 , -0.45899058],\n",
       "       [-1.5124034 ,  0.80600783, -1.35915595],\n",
       "       [ 0.37687085, -1.98401928,  0.38491447],\n",
       "       [ 1.55766726,  1.27101235,  1.28507985],\n",
       "       [-0.21352735, -0.35650346,  0.21613346],\n",
       "       [-1.27624412, -0.12400121, -1.35915595],\n",
       "       [ 1.43958762, -0.12400121,  1.17255917],\n",
       "       [ 1.20342834,  0.34100331,  1.0600385 ],\n",
       "       [ 0.73110978, -0.12400121,  1.11629884],\n",
       "       [ 0.61303014, -0.58900572,  1.00377816],\n",
       "       [-0.9220052 ,  1.73601687, -1.24663528],\n",
       "       [-1.27624412,  0.80600783, -1.24663528],\n",
       "       [ 0.73110978,  0.34100331,  0.72247648],\n",
       "       [ 0.96726906,  0.57350557,  1.0600385 ],\n",
       "       [-1.63048304, -1.75151702, -1.41541629],\n",
       "       [ 0.37687085,  0.80600783,  0.89125749],\n",
       "       [-1.15816448, -0.12400121, -1.35915595],\n",
       "       [-0.21352735, -1.2865125 ,  0.66621615],\n",
       "       [ 1.20342834,  0.10850105,  0.89125749],\n",
       "       [-1.74856268,  0.34100331, -1.41541629],\n",
       "       [-1.04008484,  1.27101235, -1.35915595],\n",
       "       [ 1.55766726, -0.12400121,  1.11629884],\n",
       "       [-0.9220052 ,  1.03851009, -1.35915595],\n",
       "       [-1.74856268, -0.12400121, -1.41541629],\n",
       "       [-0.56776627,  1.96851913, -1.19037495],\n",
       "       [-0.44968663, -1.75151702,  0.10361279],\n",
       "       [ 1.0853487 ,  0.34100331,  1.17255917],\n",
       "       [ 2.02998583, -0.12400121,  1.56638153],\n",
       "       [-0.9220052 ,  1.03851009, -1.35915595],\n",
       "       [-1.15816448,  0.10850105, -1.30289562],\n",
       "       [-0.80392556,  0.80600783, -1.35915595],\n",
       "       [-0.21352735, -0.58900572,  0.38491447],\n",
       "       [ 0.84918942, -0.12400121,  0.32865413],\n",
       "       [-1.04008484,  0.34100331, -1.47167663],\n",
       "       [-0.9220052 ,  0.57350557, -1.19037495],\n",
       "       [ 0.61303014, -0.35650346,  0.27239379],\n",
       "       [-0.56776627,  0.80600783, -1.30289562],\n",
       "       [ 2.14806547, -1.05401024,  1.73516253],\n",
       "       [-1.15816448, -1.51901476, -0.29020957],\n",
       "       [ 2.38422475,  1.73601687,  1.45386085],\n",
       "       [ 0.96726906,  0.10850105,  0.32865413],\n",
       "       [-0.80392556,  2.43352365, -1.30289562],\n",
       "       [ 0.14071157, -0.12400121,  0.55369548],\n",
       "       [-0.09544771,  2.20102139, -1.47167663],\n",
       "       [ 2.14806547, -0.58900572,  1.62264186],\n",
       "       [-0.9220052 ,  1.73601687, -1.30289562],\n",
       "       [-1.39432376,  0.34100331, -1.24663528],\n",
       "       [ 1.79382654, -0.58900572,  1.28507985],\n",
       "       [-1.04008484,  0.57350557, -1.35915595],\n",
       "       [ 0.49495049,  0.80600783,  1.00377816],\n",
       "       [-0.21352735, -0.58900572,  0.15987312],\n",
       "       [-0.09544771, -0.82150798,  0.04735245],\n",
       "       [-0.21352735, -1.05401024, -0.1776889 ],\n",
       "       [ 0.61303014,  0.34100331,  0.83499716],\n",
       "       [ 0.96726906, -0.12400121,  0.77873682],\n",
       "       [ 0.49495049, -1.2865125 ,  0.60995581],\n",
       "       [ 0.96726906, -0.12400121,  0.66621615],\n",
       "       [-1.04008484, -0.12400121, -1.24663528],\n",
       "       [-0.44968663, -1.51901476, -0.06516822],\n",
       "       [ 0.96726906,  0.10850105,  1.00377816],\n",
       "       [-0.09544771, -0.82150798,  0.72247648],\n",
       "       [-0.9220052 ,  0.80600783, -1.30289562],\n",
       "       [ 0.84918942, -0.35650346,  0.4411748 ],\n",
       "       [-0.33160699, -0.12400121,  0.15987312],\n",
       "       [ 0.02263193,  0.34100331,  0.55369548],\n",
       "       [ 0.49495049, -1.75151702,  0.32865413],\n",
       "       [-0.44968663,  1.03851009, -1.41541629],\n",
       "       [-0.9220052 ,  1.50351461, -1.30289562],\n",
       "       [-1.15816448,  0.10850105, -1.30289562],\n",
       "       [ 0.49495049, -0.35650346,  1.00377816],\n",
       "       [-0.09544771, -0.82150798,  0.15987312],\n",
       "       [ 2.14806547,  1.73601687,  1.62264186],\n",
       "       [-1.5124034 ,  0.34100331, -1.35915595]])"
      ]
     },
     "execution_count": 25,
     "metadata": {},
     "output_type": "execute_result"
    }
   ],
   "source": [
    "x_train"
   ]
  },
  {
   "cell_type": "code",
   "execution_count": 26,
   "metadata": {},
   "outputs": [
    {
     "data": {
      "text/plain": [
       "array([[ 0.14956537, -0.58304897,  0.94512598],\n",
       "       [ 0.43000045, -1.9460206 ,  0.2829358 ],\n",
       "       [-0.27108724,  2.59721815, -1.28224097],\n",
       "       [ 2.25282843, -0.35588703,  1.66751526],\n",
       "       [-0.97217492,  0.77992265, -1.22204187],\n",
       "       [ 0.85065306,  0.55276071,  1.48691794],\n",
       "       [-0.97217492,  1.00708459, -1.34244008],\n",
       "       [ 1.41152321,  0.09843684,  0.70432955],\n",
       "       [ 1.55174074, -0.58304897,  0.76452866],\n",
       "       [ 0.57021798, -0.58304897,  0.2829358 ],\n",
       "       [ 0.57021798, -1.03737285,  1.24612151],\n",
       "       [ 0.9908706 ,  0.32559878,  0.58393134],\n",
       "       [ 0.57021798, -0.58304897,  0.70432955],\n",
       "       [ 1.13108813, -0.58304897,  0.64413044],\n",
       "       [ 0.57021798, -0.35588703,  0.70432955],\n",
       "       [-1.11239246,  0.09843684, -1.22204187],\n",
       "       [ 0.43000045, -0.35588703,  0.58393134],\n",
       "       [-0.27108724, -1.03737285,  0.52373223],\n",
       "       [-1.25261   , -0.1287251 , -1.28224097],\n",
       "       [-0.41130478,  1.91573234, -1.34244008],\n",
       "       [-0.1308697 , -0.58304897,  0.82472776],\n",
       "       [-0.1308697 , -0.1287251 ,  0.58393134],\n",
       "       [-1.25261   ,  0.77992265, -0.98124544],\n",
       "       [-1.81348015, -0.35588703, -1.28224097],\n",
       "       [ 0.71043552, -0.58304897,  0.76452866],\n",
       "       [-1.53304507,  1.23424653, -1.5230374 ],\n",
       "       [-0.83195739,  1.6885704 , -0.98124544],\n",
       "       [ 0.71043552, -0.35588703,  0.46353312],\n",
       "       [-0.97217492, -1.71885866, -0.13845795],\n",
       "       [-0.97217492,  0.77992265, -1.16184276]])"
      ]
     },
     "execution_count": 26,
     "metadata": {},
     "output_type": "execute_result"
    }
   ],
   "source": [
    "x_test"
   ]
  },
  {
   "cell_type": "markdown",
   "metadata": {},
   "source": [
    "## Applying Different Algorithms"
   ]
  },
  {
   "cell_type": "markdown",
   "metadata": {},
   "source": [
    "### Logistic Regression"
   ]
  },
  {
   "cell_type": "code",
   "execution_count": 27,
   "metadata": {},
   "outputs": [
    {
     "name": "stderr",
     "output_type": "stream",
     "text": [
      "C:\\Users\\Anil\\anaconda3\\lib\\site-packages\\sklearn\\utils\\validation.py:73: DataConversionWarning: A column-vector y was passed when a 1d array was expected. Please change the shape of y to (n_samples, ), for example using ravel().\n",
      "  return f(**kwargs)\n"
     ]
    }
   ],
   "source": [
    "from sklearn import datasets, linear_model, metrics\n",
    "reg = linear_model.LogisticRegression()\n",
    "reg.fit(x_train, y_train)\n",
    "y_pred1 = reg.predict(x_test)"
   ]
  },
  {
   "cell_type": "markdown",
   "metadata": {},
   "source": [
    "**Accuracy for Logistic Regression**"
   ]
  },
  {
   "cell_type": "code",
   "execution_count": 28,
   "metadata": {},
   "outputs": [
    {
     "name": "stdout",
     "output_type": "stream",
     "text": [
      "Logistic Regression model accuracy(in %): 73.33333333333333\n"
     ]
    }
   ],
   "source": [
    "print(\"Logistic Regression model accuracy(in %):\", metrics.accuracy_score(y_test, y_pred1)*100)"
   ]
  },
  {
   "cell_type": "markdown",
   "metadata": {},
   "source": [
    "**Confusion Matrix - Logistic Regression**"
   ]
  },
  {
   "cell_type": "code",
   "execution_count": 29,
   "metadata": {},
   "outputs": [
    {
     "name": "stdout",
     "output_type": "stream",
     "text": [
      "Logistic Regression Confusion Matrix:\n",
      " [[11  0  0]\n",
      " [ 0  5  8]\n",
      " [ 0  0  6]]\n"
     ]
    }
   ],
   "source": [
    "from sklearn.metrics import confusion_matrix  \n",
    "cm= confusion_matrix(y_test,y_pred1)\n",
    "print(\"Logistic Regression Confusion Matrix:\\n\", cm)"
   ]
  },
  {
   "cell_type": "markdown",
   "metadata": {},
   "source": [
    "### Decision Tree Algorithm"
   ]
  },
  {
   "cell_type": "code",
   "execution_count": 30,
   "metadata": {},
   "outputs": [
    {
     "name": "stdout",
     "output_type": "stream",
     "text": [
      "Results Using Gini Index:\n",
      "\n",
      "*************************************\n",
      "Predicted values:\n",
      "[2 1 0 2 0 2 0 2 2 1 2 2 2 2 2 0 2 1 0 0 2 2 0 0 2 0 0 1 1 0]\n",
      "Confusion Matrix:\n",
      " [[11  0  0]\n",
      " [ 0  5  8]\n",
      " [ 0  0  6]]\n",
      "Accuracy : 73.33333333333333\n",
      "Report :\n",
      "               precision    recall  f1-score   support\n",
      "\n",
      "           0       1.00      1.00      1.00        11\n",
      "           1       1.00      0.38      0.56        13\n",
      "           2       0.43      1.00      0.60         6\n",
      "\n",
      "    accuracy                           0.73        30\n",
      "   macro avg       0.81      0.79      0.72        30\n",
      "weighted avg       0.89      0.73      0.73        30\n",
      "\n",
      "Results Using Entropy:\n",
      "\n",
      "*************************************\n",
      "Predicted values:\n",
      "[2 1 0 2 0 2 0 2 2 1 2 2 2 2 2 0 2 1 0 0 2 2 0 0 2 0 0 1 1 0]\n",
      "Confusion Matrix:\n",
      " [[11  0  0]\n",
      " [ 0  5  8]\n",
      " [ 0  0  6]]\n",
      "Accuracy : 73.33333333333333\n",
      "Report :\n",
      "               precision    recall  f1-score   support\n",
      "\n",
      "           0       1.00      1.00      1.00        11\n",
      "           1       1.00      0.38      0.56        13\n",
      "           2       0.43      1.00      0.60         6\n",
      "\n",
      "    accuracy                           0.73        30\n",
      "   macro avg       0.81      0.79      0.72        30\n",
      "weighted avg       0.89      0.73      0.73        30\n",
      "\n"
     ]
    }
   ],
   "source": [
    "import numpy as np\n",
    "import pandas as pd\n",
    "from sklearn.metrics import confusion_matrix\n",
    "from sklearn.model_selection import train_test_split\n",
    "from sklearn.tree import DecisionTreeClassifier\n",
    "from sklearn.metrics import accuracy_score\n",
    "from sklearn.metrics import classification_report\n",
    "\n",
    "\n",
    "def train_using_gini(x_train, x_test, y_train):\n",
    "    clf_gini = DecisionTreeClassifier(criterion = \"gini\",\n",
    "            random_state = 100,max_depth=3, min_samples_leaf=5)\n",
    " \n",
    "    clf_gini.fit(x_train, y_train)\n",
    "    return clf_gini\n",
    "      \n",
    "def tarin_using_entropy(x_train, x_test, y_train):\n",
    "    clf_entropy = DecisionTreeClassifier(\n",
    "            criterion = \"entropy\", random_state = 100,\n",
    "            max_depth = 3, min_samples_leaf = 5)\n",
    "  \n",
    "    clf_entropy.fit(x_train, y_train)\n",
    "    return clf_entropy\n",
    "  \n",
    "\n",
    "def prediction(x_test, clf_object):\n",
    "    y_pred2 = clf_object.predict(x_test)\n",
    "    print(\"Predicted values:\")\n",
    "    print(y_pred2)\n",
    "    return y_pred2\n",
    "      \n",
    "\n",
    "def cal_accuracy(y_test, y_pred2):    \n",
    "    print(\"Confusion Matrix:\\n\",confusion_matrix(y_test, y_pred2))\n",
    "      \n",
    "    print (\"Accuracy :\",accuracy_score(y_test,y_pred2)*100)\n",
    "      \n",
    "    print(\"Report :\\n\",classification_report(y_test, y_pred2))\n",
    "\n",
    "def main():\n",
    "    \n",
    "    clf_gini = train_using_gini(x_train, x_test, y_train)\n",
    "    clf_entropy = tarin_using_entropy(x_train, x_test, y_train)\n",
    "    print(\"Results Using Gini Index:\\n\")\n",
    "    print(\"*************************************\")\n",
    "      \n",
    "    # Prediction using gini\n",
    "    y_pred_gini = prediction(x_test, clf_gini)\n",
    "    cal_accuracy(y_test, y_pred_gini)\n",
    "      \n",
    "    print(\"Results Using Entropy:\\n\")\n",
    "    print(\"*************************************\")\n",
    "\n",
    "    # Prediction using entropy\n",
    "    y_pred_entropy = prediction(x_test, clf_entropy)\n",
    "    cal_accuracy(y_test, y_pred_entropy)\n",
    "      \n",
    "if __name__==\"__main__\":\n",
    "    main()"
   ]
  },
  {
   "cell_type": "markdown",
   "metadata": {},
   "source": [
    "### Naive Bayes "
   ]
  },
  {
   "cell_type": "code",
   "execution_count": 31,
   "metadata": {},
   "outputs": [
    {
     "name": "stderr",
     "output_type": "stream",
     "text": [
      "C:\\Users\\Anil\\anaconda3\\lib\\site-packages\\sklearn\\utils\\validation.py:73: DataConversionWarning: A column-vector y was passed when a 1d array was expected. Please change the shape of y to (n_samples, ), for example using ravel().\n",
      "  return f(**kwargs)\n"
     ]
    }
   ],
   "source": [
    "from sklearn.naive_bayes import GaussianNB\n",
    "from sklearn import metrics\n",
    "gnb = GaussianNB()\n",
    "gnb.fit(x_train, y_train)\n",
    "y_pred3 = gnb.predict(x_test)"
   ]
  },
  {
   "cell_type": "markdown",
   "metadata": {},
   "source": [
    "**Accuracy for Naive Bayes**"
   ]
  },
  {
   "cell_type": "code",
   "execution_count": 32,
   "metadata": {},
   "outputs": [
    {
     "name": "stdout",
     "output_type": "stream",
     "text": [
      "Gaussian Naive Bayes model accuracy(in %): 80.0\n"
     ]
    }
   ],
   "source": [
    "print(\"Gaussian Naive Bayes model accuracy(in %):\", metrics.accuracy_score(y_test, y_pred3)*100)"
   ]
  },
  {
   "cell_type": "markdown",
   "metadata": {},
   "source": [
    "### Support Vector Machine"
   ]
  },
  {
   "cell_type": "code",
   "execution_count": 33,
   "metadata": {},
   "outputs": [
    {
     "name": "stderr",
     "output_type": "stream",
     "text": [
      "C:\\Users\\Anil\\anaconda3\\lib\\site-packages\\sklearn\\utils\\validation.py:73: DataConversionWarning: A column-vector y was passed when a 1d array was expected. Please change the shape of y to (n_samples, ), for example using ravel().\n",
      "  return f(**kwargs)\n"
     ]
    },
    {
     "data": {
      "text/plain": [
       "SVC(kernel='linear', random_state=0)"
      ]
     },
     "execution_count": 33,
     "metadata": {},
     "output_type": "execute_result"
    }
   ],
   "source": [
    "from sklearn.svm import SVC \n",
    "from sklearn.metrics import accuracy_score, confusion_matrix\n",
    "classifier = SVC(kernel='linear', random_state=0)  \n",
    "classifier.fit(x_train, y_train)  "
   ]
  },
  {
   "cell_type": "code",
   "execution_count": 34,
   "metadata": {},
   "outputs": [
    {
     "data": {
      "text/plain": [
       "array([2, 1, 0, 2, 0, 2, 0, 2, 2, 1, 2, 1, 2, 2, 2, 0, 2, 2, 0, 0, 2, 2,\n",
       "       0, 0, 2, 0, 0, 1, 1, 0])"
      ]
     },
     "execution_count": 34,
     "metadata": {},
     "output_type": "execute_result"
    }
   ],
   "source": [
    "y_pred4= classifier.predict(x_test)  \n",
    "y_pred4"
   ]
  },
  {
   "cell_type": "markdown",
   "metadata": {},
   "source": [
    "**Accuracy for SVM**"
   ]
  },
  {
   "cell_type": "code",
   "execution_count": 35,
   "metadata": {},
   "outputs": [
    {
     "name": "stdout",
     "output_type": "stream",
     "text": [
      "0.975\n",
      "0.7333333333333333\n"
     ]
    }
   ],
   "source": [
    "print(classifier.score(x_train, y_train))\n",
    "print(classifier.score(x_test, y_test))"
   ]
  },
  {
   "cell_type": "markdown",
   "metadata": {},
   "source": [
    "### XGBoost Algorithm"
   ]
  },
  {
   "cell_type": "code",
   "execution_count": 36,
   "metadata": {},
   "outputs": [
    {
     "name": "stderr",
     "output_type": "stream",
     "text": [
      "C:\\Users\\Anil\\anaconda3\\lib\\site-packages\\sklearn\\utils\\validation.py:73: DataConversionWarning: A column-vector y was passed when a 1d array was expected. Please change the shape of y to (n_samples, ), for example using ravel().\n",
      "  return f(**kwargs)\n"
     ]
    }
   ],
   "source": [
    "from xgboost import XGBClassifier\n",
    "from sklearn.metrics import confusion_matrix, accuracy_score\n",
    "classifier = XGBClassifier()\n",
    "classifier.fit(x_train, y_train)\n",
    "y_pred5 = classifier.predict(x_test)"
   ]
  },
  {
   "cell_type": "markdown",
   "metadata": {},
   "source": [
    "**Accuracy of XGBoost**"
   ]
  },
  {
   "cell_type": "code",
   "execution_count": 37,
   "metadata": {},
   "outputs": [
    {
     "name": "stdout",
     "output_type": "stream",
     "text": [
      "Accuracy of XG-Boost:\n",
      " 80.0\n"
     ]
    }
   ],
   "source": [
    "print(\"Accuracy of XG-Boost:\\n\",accuracy_score(y_test, y_pred5)*100)"
   ]
  },
  {
   "cell_type": "markdown",
   "metadata": {},
   "source": [
    "**Confusion Matrix - XGBoost**"
   ]
  },
  {
   "cell_type": "code",
   "execution_count": 38,
   "metadata": {},
   "outputs": [
    {
     "name": "stdout",
     "output_type": "stream",
     "text": [
      "Confusion Matrix - XGBoost:\n",
      " [[11  0  0]\n",
      " [ 0  7  6]\n",
      " [ 0  0  6]]\n"
     ]
    }
   ],
   "source": [
    "cm_xg = confusion_matrix(y_test, y_pred5)\n",
    "print(\"Confusion Matrix - XGBoost:\\n\",cm_xg)"
   ]
  },
  {
   "cell_type": "code",
   "execution_count": 39,
   "metadata": {},
   "outputs": [
    {
     "name": "stderr",
     "output_type": "stream",
     "text": [
      "C:\\Users\\Anil\\anaconda3\\lib\\site-packages\\ipykernel_launcher.py:10: DataConversionWarning: A column-vector y was passed when a 1d array was expected. Please change the shape of y to (n_samples,), for example using ravel().\n",
      "  # Remove the CWD from sys.path while we load stuff.\n",
      "C:\\Users\\Anil\\anaconda3\\lib\\site-packages\\sklearn\\model_selection\\_validation.py:531: DataConversionWarning: A column-vector y was passed when a 1d array was expected. Please change the shape of y to (n_samples,), for example using ravel().\n",
      "  estimator.fit(X_train, y_train, **fit_params)\n",
      "C:\\Users\\Anil\\anaconda3\\lib\\site-packages\\sklearn\\model_selection\\_validation.py:531: DataConversionWarning: A column-vector y was passed when a 1d array was expected. Please change the shape of y to (n_samples,), for example using ravel().\n",
      "  estimator.fit(X_train, y_train, **fit_params)\n",
      "C:\\Users\\Anil\\anaconda3\\lib\\site-packages\\sklearn\\model_selection\\_validation.py:531: DataConversionWarning: A column-vector y was passed when a 1d array was expected. Please change the shape of y to (n_samples,), for example using ravel().\n",
      "  estimator.fit(X_train, y_train, **fit_params)\n",
      "C:\\Users\\Anil\\anaconda3\\lib\\site-packages\\sklearn\\utils\\validation.py:73: DataConversionWarning: A column-vector y was passed when a 1d array was expected. Please change the shape of y to (n_samples, ), for example using ravel().\n",
      "  return f(**kwargs)\n",
      "C:\\Users\\Anil\\anaconda3\\lib\\site-packages\\sklearn\\utils\\validation.py:73: DataConversionWarning: A column-vector y was passed when a 1d array was expected. Please change the shape of y to (n_samples, ), for example using ravel().\n",
      "  return f(**kwargs)\n",
      "C:\\Users\\Anil\\anaconda3\\lib\\site-packages\\sklearn\\utils\\validation.py:73: DataConversionWarning: A column-vector y was passed when a 1d array was expected. Please change the shape of y to (n_samples, ), for example using ravel().\n",
      "  return f(**kwargs)\n",
      "C:\\Users\\Anil\\anaconda3\\lib\\site-packages\\sklearn\\utils\\validation.py:73: DataConversionWarning: A column-vector y was passed when a 1d array was expected. Please change the shape of y to (n_samples, ), for example using ravel().\n",
      "  return f(**kwargs)\n",
      "C:\\Users\\Anil\\anaconda3\\lib\\site-packages\\sklearn\\utils\\validation.py:73: DataConversionWarning: A column-vector y was passed when a 1d array was expected. Please change the shape of y to (n_samples, ), for example using ravel().\n",
      "  return f(**kwargs)\n",
      "C:\\Users\\Anil\\anaconda3\\lib\\site-packages\\sklearn\\utils\\validation.py:73: DataConversionWarning: A column-vector y was passed when a 1d array was expected. Please change the shape of y to (n_samples, ), for example using ravel().\n",
      "  return f(**kwargs)\n",
      "C:\\Users\\Anil\\anaconda3\\lib\\site-packages\\sklearn\\model_selection\\_validation.py:531: DataConversionWarning: A column-vector y was passed when a 1d array was expected. Please change the shape of y to (n_samples, ), for example using ravel().\n",
      "  estimator.fit(X_train, y_train, **fit_params)\n",
      "C:\\Users\\Anil\\anaconda3\\lib\\site-packages\\sklearn\\model_selection\\_validation.py:531: DataConversionWarning: A column-vector y was passed when a 1d array was expected. Please change the shape of y to (n_samples, ), for example using ravel().\n",
      "  estimator.fit(X_train, y_train, **fit_params)\n",
      "C:\\Users\\Anil\\anaconda3\\lib\\site-packages\\sklearn\\model_selection\\_validation.py:531: DataConversionWarning: A column-vector y was passed when a 1d array was expected. Please change the shape of y to (n_samples, ), for example using ravel().\n",
      "  estimator.fit(X_train, y_train, **fit_params)\n"
     ]
    }
   ],
   "source": [
    "from sklearn.linear_model import LogisticRegression\n",
    "from sklearn.ensemble import RandomForestClassifier\n",
    "from sklearn.naive_bayes import MultinomialNB\n",
    "from sklearn.neighbors import KNeighborsClassifier\n",
    "from sklearn.model_selection import train_test_split\n",
    "from sklearn.model_selection import cross_val_score\n",
    "\n",
    "model = RandomForestClassifier()\n",
    "X_train, X_test, y_train, y_test= train_test_split(x,y ,test_size=0.33, random_state=0)\n",
    "model.fit(X_train, y_train)\n",
    "y_pred_proba = model.predict_proba(X_test)\n",
    "y_pred = model.predict(X_test)\n",
    "\n",
    "\n",
    "\n",
    "from sklearn.linear_model import LogisticRegression\n",
    "from sklearn.ensemble import RandomForestClassifier\n",
    "from sklearn.naive_bayes import MultinomialNB\n",
    "from sklearn.neighbors import KNeighborsClassifier\n",
    "from sklearn.tree import DecisionTreeClassifier\n",
    "from sklearn.naive_bayes import GaussianNB\n",
    "from sklearn.model_selection import cross_val_score\n",
    "from sklearn.svm import SVC\n",
    "\n",
    "models = [RandomForestClassifier(n_estimators=200, max_depth=3, random_state=0),LogisticRegression(random_state=0),DecisionTreeClassifier(max_depth=10,random_state=101,max_features=None,min_samples_leaf=15),GaussianNB(),KNeighborsClassifier(n_neighbors=4)]\n",
    "\n",
    "\n",
    "CV = 3  # Cross Validate with 5 different folds of 20% data ( 80-20 split with 5 folds )\n",
    "\n",
    "#Create a data frame that will store the results for all 5 trials of the 3 different models\n",
    "cv_df = pd.DataFrame(index=range(CV * len(models)))\n",
    "\n",
    "# Initially all entries are empty\n",
    "entries = [] \n",
    "\n",
    "#For each Algorithm \n",
    "for model in models:\n",
    "    model_name = model.__class__.__name__\n",
    "    # create 5 models with different 20% test sets, and store their accuracies\n",
    "    accuracies = cross_val_score(model,x,y, scoring='accuracy', cv=CV)\n",
    "    # Append all 5 accuracies into the entries list ( after all 3 models are run, there will be 3x5 = 15 entries)\n",
    "    for fold_idx, accuracy in enumerate(accuracies):\n",
    "        entries.append((model_name, fold_idx, accuracy))\n",
    "        \n",
    "        \n",
    "# Store the entries into the results dataframe and name its columns    \n",
    "cv_df = pd.DataFrame(entries, columns=['model_name', 'fold_idx', 'accuracy'])"
   ]
  },
  {
   "cell_type": "code",
   "execution_count": 41,
   "metadata": {},
   "outputs": [
    {
     "name": "stdout",
     "output_type": "stream",
     "text": [
      "                model_name  fold_idx  accuracy\n",
      "0   RandomForestClassifier         0      0.94\n",
      "1   RandomForestClassifier         1      0.92\n",
      "2   RandomForestClassifier         2      0.96\n",
      "3       LogisticRegression         0      0.96\n",
      "4       LogisticRegression         1      0.94\n",
      "5       LogisticRegression         2      0.94\n",
      "6   DecisionTreeClassifier         0      0.96\n",
      "7   DecisionTreeClassifier         1      0.92\n",
      "8   DecisionTreeClassifier         2      0.96\n",
      "9               GaussianNB         0      0.86\n",
      "10              GaussianNB         1      0.90\n",
      "11              GaussianNB         2      0.94\n",
      "12    KNeighborsClassifier         0      0.98\n",
      "13    KNeighborsClassifier         1      0.90\n",
      "14    KNeighborsClassifier         2      0.94\n"
     ]
    }
   ],
   "source": [
    "print(cv_df)"
   ]
  },
  {
   "cell_type": "code",
   "execution_count": null,
   "metadata": {},
   "outputs": [],
   "source": []
  },
  {
   "cell_type": "code",
   "execution_count": null,
   "metadata": {},
   "outputs": [],
   "source": []
  }
 ],
 "metadata": {
  "hide_input": false,
  "kernelspec": {
   "display_name": "Python 3",
   "language": "python",
   "name": "python3"
  },
  "language_info": {
   "codemirror_mode": {
    "name": "ipython",
    "version": 3
   },
   "file_extension": ".py",
   "mimetype": "text/x-python",
   "name": "python",
   "nbconvert_exporter": "python",
   "pygments_lexer": "ipython3",
   "version": "3.7.6"
  },
  "toc": {
   "base_numbering": 1,
   "nav_menu": {},
   "number_sections": true,
   "sideBar": true,
   "skip_h1_title": false,
   "title_cell": "Table of Contents",
   "title_sidebar": "Contents",
   "toc_cell": false,
   "toc_position": {},
   "toc_section_display": true,
   "toc_window_display": false
  }
 },
 "nbformat": 4,
 "nbformat_minor": 4
}
